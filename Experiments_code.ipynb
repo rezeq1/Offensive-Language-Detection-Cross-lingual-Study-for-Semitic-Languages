{
 "cells": [
  {
   "cell_type": "markdown",
   "metadata": {
    "id": "sdQ8lIxmNblt"
   },
   "source": [
    "# Reading the dataset"
   ]
  },
  {
   "cell_type": "code",
   "execution_count": null,
   "metadata": {
    "id": "Hv5RK05GIWX_"
   },
   "outputs": [],
   "source": [
    "import pandas as pd \n",
    "\n",
    "df_Eng = pd.read_csv('/content/New_English_Cleaned.csv')\n",
    "df_Arb = pd.read_excel('/content/ArabicDataCleaned.xlsx')\n",
    "df_Heb  = pd.read_excel('/content/HebrewDataCleaned.xlsx')\n"
   ]
  },
  {
   "cell_type": "markdown",
   "metadata": {
    "id": "AkTAgrrxpkuv"
   },
   "source": [
    "Spliting the datasets into 80% train and 20% test"
   ]
  },
  {
   "cell_type": "code",
   "execution_count": null,
   "metadata": {
    "id": "4XSKgAocpOY2"
   },
   "outputs": [],
   "source": [
    "from sklearn.model_selection import train_test_split\n",
    "import numpy as np\n",
    "\n",
    "# train_Arb,test_Arb= train_test_split(df_Arb, test_size=0.2, random_state=1)\n",
    "\n",
    "# train_Heb,test_Heb= train_test_split(df_Heb, test_size=0.2, random_state=1)\n",
    "\n",
    "# train_Eng,test_Eng= train_test_split(df_Eng, test_size=0.2, random_state=1)\n"
   ]
  },
  {
   "cell_type": "code",
   "execution_count": null,
   "metadata": {
    "id": "nJX0UXmApern"
   },
   "outputs": [],
   "source": [
    "train_Eng=pd.read_excel('train_Eng_SA.xlsx')\n",
    "test_Eng=pd.read_excel('test_Eng_SA.xlsx')\n",
    "\n",
    "train_Arb=pd.read_excel('train_Arb_SA.xlsx')\n",
    "test_Arb=pd.read_excel('test_Arb_SA.xlsx')\n",
    "\n",
    "train_Heb=pd.read_excel('train_Heb_SA.xlsx')\n",
    "test_Heb=pd.read_excel('test_Heb_SA.xlsx')"
   ]
  },
  {
   "cell_type": "markdown",
   "metadata": {
    "id": "OTbMWx9GZLUD"
   },
   "source": [
    "#Mbert"
   ]
  },
  {
   "cell_type": "markdown",
   "metadata": {
    "id": "jlNRRxHLNQzO"
   },
   "source": [
    "##### Importing mBert tokenizer"
   ]
  },
  {
   "cell_type": "code",
   "execution_count": null,
   "metadata": {
    "colab": {
     "base_uri": "https://localhost:8080/"
    },
    "id": "Xy35w6j4HN_T",
    "outputId": "9573289b-e895-443b-9007-e5beb6271031"
   },
   "outputs": [
    {
     "name": "stdout",
     "output_type": "stream",
     "text": [
      "Looking in indexes: https://pypi.org/simple, https://us-python.pkg.dev/colab-wheels/public/simple/\n",
      "Collecting transformers\n",
      "  Downloading transformers-4.19.2-py3-none-any.whl (4.2 MB)\n",
      "\u001b[K     |████████████████████████████████| 4.2 MB 32.7 MB/s \n",
      "\u001b[?25hCollecting pyyaml>=5.1\n",
      "  Downloading PyYAML-6.0-cp37-cp37m-manylinux_2_5_x86_64.manylinux1_x86_64.manylinux_2_12_x86_64.manylinux2010_x86_64.whl (596 kB)\n",
      "\u001b[K     |████████████████████████████████| 596 kB 68.5 MB/s \n",
      "\u001b[?25hRequirement already satisfied: numpy>=1.17 in /usr/local/lib/python3.7/dist-packages (from transformers) (1.21.6)\n",
      "Requirement already satisfied: packaging>=20.0 in /usr/local/lib/python3.7/dist-packages (from transformers) (21.3)\n",
      "Requirement already satisfied: importlib-metadata in /usr/local/lib/python3.7/dist-packages (from transformers) (4.11.3)\n",
      "Requirement already satisfied: requests in /usr/local/lib/python3.7/dist-packages (from transformers) (2.23.0)\n",
      "Requirement already satisfied: regex!=2019.12.17 in /usr/local/lib/python3.7/dist-packages (from transformers) (2019.12.20)\n",
      "Collecting huggingface-hub<1.0,>=0.1.0\n",
      "  Downloading huggingface_hub-0.7.0-py3-none-any.whl (86 kB)\n",
      "\u001b[K     |████████████████████████████████| 86 kB 6.4 MB/s \n",
      "\u001b[?25hRequirement already satisfied: filelock in /usr/local/lib/python3.7/dist-packages (from transformers) (3.7.0)\n",
      "Collecting tokenizers!=0.11.3,<0.13,>=0.11.1\n",
      "  Downloading tokenizers-0.12.1-cp37-cp37m-manylinux_2_12_x86_64.manylinux2010_x86_64.whl (6.6 MB)\n",
      "\u001b[K     |████████████████████████████████| 6.6 MB 63.0 MB/s \n",
      "\u001b[?25hRequirement already satisfied: tqdm>=4.27 in /usr/local/lib/python3.7/dist-packages (from transformers) (4.64.0)\n",
      "Requirement already satisfied: typing-extensions>=3.7.4.3 in /usr/local/lib/python3.7/dist-packages (from huggingface-hub<1.0,>=0.1.0->transformers) (4.2.0)\n",
      "Requirement already satisfied: pyparsing!=3.0.5,>=2.0.2 in /usr/local/lib/python3.7/dist-packages (from packaging>=20.0->transformers) (3.0.9)\n",
      "Requirement already satisfied: zipp>=0.5 in /usr/local/lib/python3.7/dist-packages (from importlib-metadata->transformers) (3.8.0)\n",
      "Requirement already satisfied: certifi>=2017.4.17 in /usr/local/lib/python3.7/dist-packages (from requests->transformers) (2022.5.18.1)\n",
      "Requirement already satisfied: urllib3!=1.25.0,!=1.25.1,<1.26,>=1.21.1 in /usr/local/lib/python3.7/dist-packages (from requests->transformers) (1.24.3)\n",
      "Requirement already satisfied: idna<3,>=2.5 in /usr/local/lib/python3.7/dist-packages (from requests->transformers) (2.10)\n",
      "Requirement already satisfied: chardet<4,>=3.0.2 in /usr/local/lib/python3.7/dist-packages (from requests->transformers) (3.0.4)\n",
      "Installing collected packages: pyyaml, tokenizers, huggingface-hub, transformers\n",
      "  Attempting uninstall: pyyaml\n",
      "    Found existing installation: PyYAML 3.13\n",
      "    Uninstalling PyYAML-3.13:\n",
      "      Successfully uninstalled PyYAML-3.13\n",
      "Successfully installed huggingface-hub-0.7.0 pyyaml-6.0 tokenizers-0.12.1 transformers-4.19.2\n"
     ]
    }
   ],
   "source": [
    "!pip install transformers"
   ]
  },
  {
   "cell_type": "code",
   "execution_count": null,
   "metadata": {
    "colab": {
     "base_uri": "https://localhost:8080/",
     "referenced_widgets": [
      "6aa0e318bf764ba5b5c8191cdab93cf5",
      "b45dc558e3074b81bfba24323120bf09",
      "43a14ef7d383423c864628e0a0f65537",
      "e3ec6bf4f79d4c5f8f848b4da21d73b2",
      "5e3d19abd1424fc598ad89f6acb45c17",
      "c588da4a50f94481ac1c19ac0ee12402",
      "6c70038164764329a7a922b6d0b69b61",
      "b0faa4da50e14aacbd9446b8cec38cd9",
      "c24fe42377144dc58cff459befe4adbf",
      "bb031a87ea254de3859fc971e8c65be4",
      "72cdffe978514a8b93751cd4ccbc3210",
      "25f16e08be4d4a21bccf9a0df2030fd1",
      "04436270ba364f6d86e6d7d4ff5a9386",
      "66fa367b039c4c37abdfca67c81ce251",
      "9fe236a839784274a88aa6b899e2aa9c",
      "adb1d527ca3949fb8c52d9a017cf4c7f",
      "40dc97a1f9db434192732a6a969071ac",
      "cf88975b873144d2a41cb8236807350a",
      "dedf7c9b588c4a2fa49a57c9e071682f",
      "d0bc11d40d7a419a8e34f8c1f236bf26",
      "651c4eac7be246a2ac9f8b62cb4e7809",
      "f4c60d4b2ec34eadbac0fbe1b7f1f67f",
      "94bff7181031499bb9a39e27228e79e7",
      "edbe533c2c9e413ea4f898f6560af59e",
      "b3ef3303612245eaafe32c8bf60fc462",
      "4a35aa0bb62747209ae4ec6f4064d7ae",
      "39606e32b3d74c3d8181f86bdac8fbb7",
      "82b0f1b6e1994f1faba5c86e44de4b60",
      "7dda620a4abd43379ed9d41eaa68ecdf",
      "b8b25e1a9a634e628ce2a46a95349e34",
      "0cc5f99873d14142b69b74b9e580fd09",
      "f04305f4cc5a4920b74acd3891fa4284",
      "2a0797fa5eac4e5b9276b271efb343ec"
     ]
    },
    "id": "IyUG2pnRHB3n",
    "outputId": "dbfdbd25-4d05-4cb0-a780-176dcd911b17"
   },
   "outputs": [
    {
     "data": {
      "application/vnd.jupyter.widget-view+json": {
       "model_id": "6aa0e318bf764ba5b5c8191cdab93cf5",
       "version_major": 2,
       "version_minor": 0
      },
      "text/plain": [
       "Downloading:   0%|          | 0.00/972k [00:00<?, ?B/s]"
      ]
     },
     "metadata": {},
     "output_type": "display_data"
    },
    {
     "data": {
      "application/vnd.jupyter.widget-view+json": {
       "model_id": "25f16e08be4d4a21bccf9a0df2030fd1",
       "version_major": 2,
       "version_minor": 0
      },
      "text/plain": [
       "Downloading:   0%|          | 0.00/29.0 [00:00<?, ?B/s]"
      ]
     },
     "metadata": {},
     "output_type": "display_data"
    },
    {
     "data": {
      "application/vnd.jupyter.widget-view+json": {
       "model_id": "94bff7181031499bb9a39e27228e79e7",
       "version_major": 2,
       "version_minor": 0
      },
      "text/plain": [
       "Downloading:   0%|          | 0.00/625 [00:00<?, ?B/s]"
      ]
     },
     "metadata": {},
     "output_type": "display_data"
    }
   ],
   "source": [
    "from transformers import BertTokenizer\n",
    "\n",
    "max_length_test = 40\n",
    "tokenizer = BertTokenizer.from_pretrained('bert-base-multilingual-cased', do_lower_case=True)\n"
   ]
  },
  {
   "cell_type": "markdown",
   "metadata": {
    "id": "PJ0r9i6TNuJ1"
   },
   "source": [
    "##### Model initialization"
   ]
  },
  {
   "cell_type": "code",
   "execution_count": null,
   "metadata": {
    "colab": {
     "base_uri": "https://localhost:8080/"
    },
    "id": "4wsBLn2pIvhU",
    "outputId": "46041222-4bfa-4971-ba05-56719d1f9eba"
   },
   "outputs": [
    {
     "name": "stderr",
     "output_type": "stream",
     "text": [
      "All model checkpoint layers were used when initializing TFBertForSequenceClassification.\n",
      "\n",
      "Some layers of TFBertForSequenceClassification were not initialized from the model checkpoint at bert-base-multilingual-cased and are newly initialized: ['classifier']\n",
      "You should probably TRAIN this model on a down-stream task to be able to use it for predictions and inference.\n"
     ]
    }
   ],
   "source": [
    "from transformers import TFBertForSequenceClassification\n",
    "\n",
    "\n",
    "model = TFBertForSequenceClassification.from_pretrained('bert-base-multilingual-cased')"
   ]
  },
  {
   "cell_type": "markdown",
   "metadata": {
    "id": "dA2lOa6_NkME"
   },
   "source": [
    "##### Maping tokens into BOW embeddings"
   ]
  },
  {
   "cell_type": "code",
   "execution_count": null,
   "metadata": {
    "id": "lZh6TZ3IImob"
   },
   "outputs": [],
   "source": [
    "import tensorflow as tf\n",
    "\n",
    "\n",
    "# map to the expected input to TFBertForSequenceClassification \n",
    "def map_example_to_dict(input_ids, attention_masks, token_type_ids, label):\n",
    "  return {\n",
    "      \"input_ids\": input_ids,\n",
    "      \"token_type_ids\": token_type_ids,\n",
    "      \"attention_mask\": attention_masks,\n",
    "  }, label\n",
    "\n",
    "\n",
    "\n",
    "def encode_examples(ds):\n",
    "\n",
    "  input_ids_list = []\n",
    "  token_type_ids_list = []\n",
    "  attention_mask_list = []\n",
    "  label_list = []\n",
    "\n",
    "\n",
    "  for index, row in ds.iterrows():\n",
    "    bert_input=tokenizer.encode_plus(\n",
    "                        str(row['text']),                      \n",
    "                        add_special_tokens = True,\n",
    "                        max_length = max_length_test, \n",
    "                        pad_to_max_length = True, \n",
    "                        return_attention_mask = True,\n",
    "                        \n",
    "              )\n",
    "\n",
    "\n",
    "    input_ids_list.append(bert_input['input_ids'])\n",
    "    token_type_ids_list.append(bert_input['token_type_ids'])\n",
    "    attention_mask_list.append(bert_input['attention_mask'])\n",
    " \n",
    "    \n",
    "\n",
    "    if row['label']==0 :\n",
    "      label_list.append([0])\n",
    "    else:\n",
    "      label_list.append([1])\n",
    "\n",
    "  #return input_ids_list\n",
    "  return tf.data.Dataset.from_tensor_slices((input_ids_list, attention_mask_list, token_type_ids_list, label_list)).map(map_example_to_dict)\n"
   ]
  },
  {
   "cell_type": "markdown",
   "metadata": {
    "id": "ujKd0PjlNrTe"
   },
   "source": [
    "##### Encoding the dataset"
   ]
  },
  {
   "cell_type": "code",
   "execution_count": null,
   "metadata": {
    "colab": {
     "base_uri": "https://localhost:8080/"
    },
    "id": "ITCkdoMkIq7w",
    "outputId": "a83eec1f-a1c7-49a7-f507-f90eff56be5d"
   },
   "outputs": [
    {
     "name": "stderr",
     "output_type": "stream",
     "text": [
      "/usr/local/lib/python3.7/dist-packages/transformers/tokenization_utils_base.py:2291: FutureWarning: The `pad_to_max_length` argument is deprecated and will be removed in a future version, use `padding=True` or `padding='longest'` to pad to the longest sequence in the batch, or use `padding='max_length'` to pad to a max length. In this case, you can give a specific length with `max_length` (e.g. `max_length=45`) or leave max_length to None to pad to the maximal input size of the model (e.g. 512 for Bert).\n",
      "  FutureWarning,\n"
     ]
    }
   ],
   "source": [
    "batch_size=16\n",
    "\n",
    "# train dataset\n",
    "train = pd.concat([df_Heb,df_Eng,train_Arb])\n",
    "train_encoded = encode_examples(train).shuffle(10000).batch(batch_size)\n",
    "\n",
    "# test dataset\n",
    "test  = test_Arb \n",
    "test_encoded  = encode_examples(test).shuffle(10000).batch(batch_size)\n"
   ]
  },
  {
   "cell_type": "markdown",
   "metadata": {
    "id": "swy03LEJNurv"
   },
   "source": [
    "##### Training the model"
   ]
  },
  {
   "cell_type": "code",
   "execution_count": null,
   "metadata": {
    "colab": {
     "base_uri": "https://localhost:8080/"
    },
    "id": "7i6SBXHZIxpU",
    "outputId": "37f05905-e6a6-4215-b61d-49c1f266a982"
   },
   "outputs": [
    {
     "name": "stdout",
     "output_type": "stream",
     "text": [
      "Epoch 1/3\n",
      "1614/1614 [==============================] - 321s 190ms/step - loss: 0.6526 - accuracy: 0.6565\n",
      "Epoch 2/3\n",
      "1614/1614 [==============================] - 306s 190ms/step - loss: 0.6399 - accuracy: 0.6688\n",
      "Epoch 3/3\n",
      "1614/1614 [==============================] - 305s 189ms/step - loss: 0.6725 - accuracy: 0.6395\n"
     ]
    }
   ],
   "source": [
    "learning_rate = 2e-5\n",
    "number_of_epochs = 3\n",
    "\n",
    "model.compile(optimizer='adam',loss = tf.keras.losses.SparseCategoricalCrossentropy(from_logits=True), metrics=['accuracy'])\n",
    "\n",
    "bert_history = model.fit(train_encoded, epochs=number_of_epochs)"
   ]
  },
  {
   "cell_type": "markdown",
   "metadata": {
    "id": "NecWR8XjNv9t"
   },
   "source": [
    "##### Evaluate the model\n"
   ]
  },
  {
   "cell_type": "code",
   "execution_count": null,
   "metadata": {
    "colab": {
     "base_uri": "https://localhost:8080/"
    },
    "id": "0T_3Ea7Drw69",
    "outputId": "a426077c-33b2-43e0-e919-c6b0f858c478"
   },
   "outputs": [
    {
     "name": "stdout",
     "output_type": "stream",
     "text": [
      "66/66 [==============================] - 6s 57ms/step - loss: 0.6883 - accuracy: 0.5881\n",
      "Loss: 0.6882796883583069\n",
      "Accuracy: 0.5881226062774658\n"
     ]
    }
   ],
   "source": [
    "loss, accuracy = model.evaluate(test_encoded)\n",
    "\n",
    "print(f'Loss: {loss}')\n",
    "print(f'Accuracy: {accuracy}')"
   ]
  },
  {
   "cell_type": "markdown",
   "metadata": {
    "id": "ls7yWAAVc6iY"
   },
   "source": [
    "***With SA double filtering***"
   ]
  },
  {
   "cell_type": "code",
   "execution_count": null,
   "metadata": {
    "id": "TZuDHzQPnjRG"
   },
   "outputs": [],
   "source": [
    "x = model.predict(test_encoded)"
   ]
  },
  {
   "cell_type": "code",
   "execution_count": null,
   "metadata": {
    "id": "j9UgS_frngKy"
   },
   "outputs": [],
   "source": [
    "preds_flat = np.argmax(x.logits, axis=1).flatten()"
   ]
  },
  {
   "cell_type": "code",
   "execution_count": null,
   "metadata": {
    "colab": {
     "base_uri": "https://localhost:8080/"
    },
    "id": "xt6m2j47pJLq",
    "outputId": "3deeb105-81bf-4486-802e-0a3afc0a95a8"
   },
   "outputs": [
    {
     "data": {
      "text/plain": [
       "array([0, 0, 0, ..., 0, 0, 0])"
      ]
     },
     "execution_count": 72,
     "metadata": {},
     "output_type": "execute_result"
    }
   ],
   "source": [
    "preds_flat"
   ]
  },
  {
   "cell_type": "code",
   "execution_count": null,
   "metadata": {
    "id": "PZJFM3oboZYW"
   },
   "outputs": [],
   "source": [
    "def Max_SA(Pos ,Neg ,Net):\n",
    "  if Pos > Neg and Pos > Net:\n",
    "    return 'positive'\n",
    "  if Neg > Pos and Neg > Net:\n",
    "    return 'negative'\n",
    "  if Net > Neg and Net > Pos:\n",
    "    return 'neutral'\n",
    "\n",
    "def updateSA(df, labels):\n",
    "\n",
    "  c = 0\n",
    "  for index, row in df.iterrows():\n",
    "    Neg_SA = row['negative'] #25785\n",
    "    Pos_SA = row['positive'] #19737\n",
    "    Nat_SA = row['neutral'] #52546\n",
    "\n",
    "    if(Max_SA(Pos_SA,Neg_SA,Nat_SA)== 'positive'):\n",
    "      labels[c] = 0\n",
    "    c += 1\n"
   ]
  },
  {
   "cell_type": "code",
   "execution_count": null,
   "metadata": {
    "id": "Pj16Kq3loeTt"
   },
   "outputs": [],
   "source": [
    "updateSA(test_Arb, preds_flat)"
   ]
  },
  {
   "cell_type": "code",
   "execution_count": null,
   "metadata": {
    "colab": {
     "base_uri": "https://localhost:8080/"
    },
    "id": "J-gXCSS9n6D0",
    "outputId": "1394fcc4-f14d-4759-c750-f23335c20fb0"
   },
   "outputs": [
    {
     "data": {
      "text/plain": [
       "0.7233695652173913"
      ]
     },
     "execution_count": 76,
     "metadata": {},
     "output_type": "execute_result"
    }
   ],
   "source": [
    "from sklearn.metrics import confusion_matrix,accuracy_score\n",
    "accuracy_score(test_Arb['label'].to_list(),preds_flat)"
   ]
  },
  {
   "cell_type": "markdown",
   "metadata": {
    "id": "pOD5YECFMF-e"
   },
   "source": [
    "#Machine Learning"
   ]
  },
  {
   "cell_type": "code",
   "execution_count": null,
   "metadata": {
    "id": "TkCO4TwLZCHu"
   },
   "outputs": [],
   "source": [
    "def print_scores(test_labels,model_preds):\n",
    "  accuracy=accuracy_score(test_labels,model_preds)\n",
    "  precision = precision_score(test_labels,model_preds, average='binary')\n",
    "  recall = recall_score(test_labels,model_preds, average='binary')\n",
    "  f1_score = f1_score(test_labels,model_preds, average='binary')\n",
    "  print('Accuracy: %.3f' % accuracy ,'Precision: %.3f' % precision,'Recall: %.3f' % recall,'F-Measure: %.3f' % f1_score)\n"
   ]
  },
  {
   "cell_type": "markdown",
   "metadata": {
    "id": "IVL1ihv2Wi1C"
   },
   "source": [
    "#####Machine Learning + N-grams"
   ]
  },
  {
   "cell_type": "code",
   "execution_count": null,
   "metadata": {
    "id": "lScfcQLVYfdA"
   },
   "outputs": [],
   "source": [
    "from sklearn.feature_extraction.text import CountVectorizer,TfidfVectorizer\n",
    "from sklearn.ensemble import RandomForestClassifier\n",
    "from sklearn.linear_model import LogisticRegression\n",
    "from sklearn.metrics import accuracy_score\n",
    "from sklearn import svm\n",
    "import numpy as np\n",
    "\n",
    "\n",
    "train=pd.concat([train_Heb,df_Eng,df_Arb])\n",
    "test=test_Heb\n",
    "\n",
    "\n",
    "train_text = [str(i) for i in train['text'] ]\n",
    "test_text  = [str(i) for i in test['text']  ]\n",
    "all_text = train_text+test_text\n",
    "\n",
    "#ngram_vectorizer = TfidfVectorizer()\n",
    "ngram_vectorizer = TfidfVectorizer(analyzer='char_wb', ngram_range=(3,3))\n",
    "\n",
    "ngram_vectorizer.fit(all_text)\n",
    "train_features = ngram_vectorizer.transform(train_text)\n",
    "test_features = ngram_vectorizer.transform(test_text)\n",
    "\n",
    "train_target=train['label']\n",
    "test_target=test['label']\n",
    "\n",
    "classifiers=[RandomForestClassifier(random_state=1)\n",
    "              ,LogisticRegression(C=0.1, solver='sag',random_state=1)\n",
    "              ,svm.SVC()\n",
    "            ]\n",
    "\n",
    "for classifier in classifiers : \n",
    "  classifier.fit(train_features, train_target)\n",
    "  model_pred=classifier.predict(test_features)\n",
    "  print_scores(test_target,model_pred)\n"
   ]
  },
  {
   "cell_type": "markdown",
   "metadata": {
    "id": "oGaA-SWVWp9x"
   },
   "source": [
    "#####Machine Learning + BOW"
   ]
  },
  {
   "cell_type": "code",
   "execution_count": null,
   "metadata": {
    "id": "SEyLA-vPWLFC"
   },
   "outputs": [],
   "source": [
    "from sklearn.feature_extraction.text import CountVectorizer,TfidfVectorizer\n",
    "from sklearn.ensemble import RandomForestClassifier\n",
    "from sklearn.linear_model import LogisticRegression\n",
    "from sklearn.metrics import accuracy_score\n",
    "from sklearn import svm\n",
    "import numpy as np\n",
    "\n",
    "\n",
    "train=pd.concat([train_Heb,df_Eng,df_Arb])\n",
    "test=test_Heb\n",
    "\n",
    "\n",
    "train_text = [str(i) for i in train['text'] ]\n",
    "test_text  = [str(i) for i in test['text']  ]\n",
    "all_text = train_text+test_text\n",
    "\n",
    "bow_vectorizer = TfidfVectorizer()\n",
    "\n",
    "\n",
    "bow_vectorizer.fit(all_text)\n",
    "train_features = bow_vectorizer.transform(train_text)\n",
    "test_features = bow_vectorizer.transform(test_text)\n",
    "\n",
    "train_target=train['label']\n",
    "test_target=test['label']\n",
    "\n",
    "classifiers=[RandomForestClassifier(random_state=1)\n",
    "              ,LogisticRegression(C=0.1, solver='sag',random_state=1)\n",
    "              ,svm.SVC()\n",
    "            ]\n",
    "\n",
    "for classifier in classifiers : \n",
    "  classifier.fit(train_features, train_target)\n",
    "  model_pred=classifier.predict(test_features)\n",
    "  print_scores(test_target,model_pred)\n"
   ]
  },
  {
   "cell_type": "markdown",
   "metadata": {
    "id": "b9vDo8Wmvz68"
   },
   "source": [
    "#####Machine Learning + Sentence Vectors Mbert"
   ]
  },
  {
   "cell_type": "code",
   "execution_count": null,
   "metadata": {
    "id": "Nn6IaufIeIc6"
   },
   "outputs": [],
   "source": [
    "!pip install sentence_transformers"
   ]
  },
  {
   "cell_type": "code",
   "execution_count": null,
   "metadata": {
    "id": "3sRUbHnGeLfr"
   },
   "outputs": [],
   "source": [
    "from sentence_transformers import SentenceTransformer\n",
    "bert_transformers = SentenceTransformer('paraphrase-multilingual-mpnet-base-v2')"
   ]
  },
  {
   "cell_type": "code",
   "execution_count": null,
   "metadata": {
    "id": "1chyG1fggYhW"
   },
   "outputs": [],
   "source": [
    "import itertools\n",
    "import re\n",
    "\n",
    "def cleanText(text):\n",
    "    text=str(text)\n",
    "    text = re.sub(r'<.*?>', ' ', text)\n",
    "    text = re.sub(r\"won't\", \"will not\", text)\n",
    "    text = re.sub(r\"can't\", \"can not\", text)\n",
    "    text = re.sub(r\"n't\", \" not\", text)\n",
    "    text = re.sub(r\"'ve\", \" have\", text)\n",
    "    text = re.sub(r\"'ll\", \" will\", text)\n",
    "    text = re.sub(r\"'re\", \" are\", text)\n",
    "    text = text.strip().lower()\n",
    "    filters='\"#$%&*+<=>@[\\\\]^_`{|}~\\t\\n'\n",
    "    text = re.sub(r'\\!+', '!', text)\n",
    "    text = re.sub(r'\\?+', '?', text)\n",
    "    text = re.sub(r'\\( *\\)', ' ', text)\n",
    "    text = re.sub(' +', ' ', text)\n",
    "    text = ''.join(text)\n",
    "    return text\n",
    "\n",
    "\n",
    "def mean(z): # used for BERT (word version) and Word2Vec\n",
    "    return sum(itertools.chain(z))/len(z)\n",
    "\n",
    "def embeddToBERT(text):\n",
    "    sentences = re.split('!|\\?|\\.',text)\n",
    "    sentences = list(filter(None, sentences)) \n",
    "    result = bert_transformers.encode(sentences)\n",
    "    feature = [mean(x) for x in zip(*result)]\n",
    "  \n",
    "    return feature"
   ]
  },
  {
   "cell_type": "code",
   "execution_count": null,
   "metadata": {
    "id": "wtN_f44-fuhv"
   },
   "outputs": [],
   "source": [
    "test_Arb=test_Arb.drop(1613)\n",
    "train_Arb=train_Arb.drop([4002,4891,1613,6920,1512])"
   ]
  },
  {
   "cell_type": "code",
   "execution_count": null,
   "metadata": {
    "id": "nnlZQCdJkUki"
   },
   "outputs": [],
   "source": [
    "test_Heb['clean_text_bert'] = test_Heb['text'].apply(cleanText)\n",
    "train_Heb['clean_text_bert'] = train_Heb['text'].apply(cleanText)\n",
    "\n",
    "test_Arb['clean_text_bert'] = test_Arb['text'].apply(cleanText)\n",
    "train_Arb['clean_text_bert'] = train_Arb['text'].apply(cleanText)\n",
    "\n",
    "test_Eng['clean_text_bert'] = test_Eng['text'].apply(cleanText)\n",
    "train_Eng['clean_text_bert'] = train_Eng['text'].apply(cleanText)"
   ]
  },
  {
   "cell_type": "code",
   "execution_count": null,
   "metadata": {
    "id": "yn3KX3BlOZwE"
   },
   "outputs": [],
   "source": [
    "He_train_feature = train_Heb['clean_text_bert'].apply(embeddToBERT)\n",
    "He_test_feature = test_Heb['clean_text_bert'].apply(embeddToBERT)"
   ]
  },
  {
   "cell_type": "code",
   "execution_count": null,
   "metadata": {
    "id": "vLCdYwlpQQJ3"
   },
   "outputs": [],
   "source": [
    "En_train_feature = train_Eng['clean_text_bert'].apply(embeddToBERT)\n",
    "En_test_feature = test_Eng['clean_text_bert'].apply(embeddToBERT)"
   ]
  },
  {
   "cell_type": "code",
   "execution_count": null,
   "metadata": {
    "id": "e8UsegezQP0p"
   },
   "outputs": [],
   "source": [
    "Ar_train_feature = train_Arb['clean_text_bert'].apply(embeddToBERT)\n",
    "Ar_test_feature = test_Arb['clean_text_bert'].apply(embeddToBERT)"
   ]
  },
  {
   "cell_type": "markdown",
   "metadata": {
    "id": "l5H6-RLnkE1_"
   },
   "source": [
    "With SA labels (optional)"
   ]
  },
  {
   "cell_type": "code",
   "execution_count": null,
   "metadata": {
    "id": "PbW-vldP1odw"
   },
   "outputs": [],
   "source": [
    "#add SA feature to train \n",
    "train_He_SA=[]\n",
    "negative=train_Arb['negative'].to_list()\n",
    "positive=train_Arb['positive'].to_list()\n",
    "neutral=train_Arb['neutral'].to_list()\n",
    "for i in range(train_Arb.shape[0]):  \n",
    "  train_He_SA.append(Ar_train_feature.iloc[i]+[negative[i],positive[i],neutral[i]])\n",
    "  \n",
    "Ar_train_feature = train_He_SA\n",
    "Ar_train_feature = pd.Series(Ar_train_feature)\n",
    "\n",
    "\n",
    "#add SA feature to test \n",
    "test_He_SA=[]\n",
    "negative=test_Arb['negative'].to_list()\n",
    "positive=test_Arb['positive'].to_list()\n",
    "neutral=test_Arb['neutral'].to_list()\n",
    "for i in range(test_Arb.shape[0]):\n",
    "  test_He_SA.append(Ar_test_feature.iloc[i]+[negative[i],positive[i],neutral[i]])\n",
    "\n",
    "Ar_test_feature = test_He_SA\n",
    "Ar_test_feature = pd.Series(Ar_test_feature)"
   ]
  },
  {
   "cell_type": "code",
   "execution_count": null,
   "metadata": {
    "colab": {
     "base_uri": "https://localhost:8080/"
    },
    "id": "I3ajQO23Q6Pi",
    "outputId": "88ed35b1-fb6c-44e0-bdf7-21b5670e4f11"
   },
   "outputs": [
    {
     "name": "stdout",
     "output_type": "stream",
     "text": [
      "(1044, 768)\n"
     ]
    }
   ],
   "source": [
    "feature = [x for x in He_train_feature.transpose()]\n",
    "He_train = np.asarray(feature)\n",
    "\n",
    "feature = [x for x in He_test_feature.transpose()]\n",
    "He_test = np.asarray(feature)\n",
    "\n",
    "print(He_test.shape)"
   ]
  },
  {
   "cell_type": "code",
   "execution_count": null,
   "metadata": {
    "colab": {
     "base_uri": "https://localhost:8080/"
    },
    "id": "CZMCOiCL1Oro",
    "outputId": "b43edaf1-dcb0-4dce-cfd8-691d90dfb872"
   },
   "outputs": [
    {
     "name": "stdout",
     "output_type": "stream",
     "text": [
      "(7351, 768)\n"
     ]
    }
   ],
   "source": [
    "feature = [x for x in Ar_train_feature.transpose()]\n",
    "Ar_train = np.asarray(feature)\n",
    "\n",
    "feature = [x for x in Ar_test_feature.transpose()]\n",
    "Ar_test = np.asarray(feature)\n",
    "\n",
    "print(Ar_train.shape)"
   ]
  },
  {
   "cell_type": "code",
   "execution_count": null,
   "metadata": {
    "colab": {
     "base_uri": "https://localhost:8080/"
    },
    "id": "wRNml3ZTQ65H",
    "outputId": "34c472b5-9126-4314-a80f-38df3b872fcb"
   },
   "outputs": [
    {
     "name": "stdout",
     "output_type": "stream",
     "text": [
      "(10592, 768)\n"
     ]
    }
   ],
   "source": [
    "feature = [x for x in En_train_feature.transpose()]\n",
    "En_train = np.asarray(feature)\n",
    "\n",
    "feature = [x for x in En_test_feature.transpose()]\n",
    "En_test = np.asarray(feature)\n",
    "\n",
    "print(En_train.shape)"
   ]
  },
  {
   "cell_type": "code",
   "execution_count": null,
   "metadata": {
    "id": "o4WsRbMVVNx_"
   },
   "outputs": [],
   "source": [
    "Ar_train_labels=train_Arb['label'].to_list()\n",
    "He_train_labels=train_Heb['label'].to_list()\n",
    "En_train_labels=train_Eng['label'].to_list()\n",
    "\n",
    "Ar_test_labels=test_Arb['label'].to_list()\n",
    "He_test_labels=test_Heb['label'].to_list()\n",
    "En_test_labels=test_Eng['label'].to_list()"
   ]
  },
  {
   "cell_type": "code",
   "execution_count": null,
   "metadata": {
    "id": "yHxzjgdQN10P"
   },
   "outputs": [],
   "source": [
    "train_features=list(Ar_train) + list(Ar_test) + list(En_train) + list(En_test) + list(He_train)\n",
    "train_targets=Ar_train_labels + Ar_test_labels + En_train_labels + En_test_labels + He_train_labels\n",
    "\n",
    "test_features=list(He_test)\n",
    "test_targets=He_test_labels"
   ]
  },
  {
   "cell_type": "code",
   "execution_count": null,
   "metadata": {
    "id": "m0mLUdnioull"
   },
   "outputs": [],
   "source": [
    "from sklearn.feature_extraction.text import CountVectorizer,TfidfVectorizer\n",
    "from sklearn.ensemble import RandomForestClassifier\n",
    "from sklearn.linear_model import LogisticRegression\n",
    "from sklearn.metrics import accuracy_score\n",
    "from sklearn import svm\n",
    "import numpy as np\n",
    "\n",
    "\n",
    "classifiers=[RandomForestClassifier(random_state=1)\n",
    "              ,LogisticRegression(C=0.1, solver='sag',random_state=1)\n",
    "              ,svm.SVC()\n",
    "            ]\n",
    "\n",
    "\n",
    "for model in classifiers : \n",
    "  model.fit(train_features,train_targets)\n",
    "  y_pred = model.predict(test_features)\n",
    "  print_scores(test_targets,y_pred)  \n"
   ]
  },
  {
   "cell_type": "markdown",
   "metadata": {
    "id": "6JQarYlawKL5"
   },
   "source": [
    "#Resampling"
   ]
  },
  {
   "cell_type": "code",
   "execution_count": null,
   "metadata": {
    "id": "SJ130ScK2s5o"
   },
   "outputs": [],
   "source": [
    "df=df_Eng"
   ]
  },
  {
   "cell_type": "code",
   "execution_count": null,
   "metadata": {
    "colab": {
     "base_uri": "https://localhost:8080/"
    },
    "id": "isLeAnOO1fco",
    "outputId": "a61cee56-1720-41f5-a1f5-19e2ac0c436e"
   },
   "outputs": [
    {
     "name": "stdout",
     "output_type": "stream",
     "text": [
      "Before:\n",
      " 0    9748\n",
      "1    1196\n",
      "Name: label, dtype: int64\n"
     ]
    }
   ],
   "source": [
    "count_class_0, count_class_1 = df.label.value_counts()\n",
    "\n",
    "# Divide by class\n",
    "df_class_0 = df[df['label'] == 0]\n",
    "df_class_1 = df[df['label'] == 1]\n",
    "print(\"Before:\\n\",df.label.value_counts())"
   ]
  },
  {
   "cell_type": "markdown",
   "metadata": {
    "id": "DNX-U_7L0zqy"
   },
   "source": [
    "###Under-sampling"
   ]
  },
  {
   "cell_type": "code",
   "execution_count": null,
   "metadata": {
    "colab": {
     "base_uri": "https://localhost:8080/"
    },
    "id": "EImatAGgwIe6",
    "outputId": "2b422518-36fa-4d7a-95c7-82543df44720"
   },
   "outputs": [
    {
     "name": "stdout",
     "output_type": "stream",
     "text": [
      "After:\n",
      " 1    1196\n",
      "0    1196\n",
      "Name: label, dtype: int64\n"
     ]
    }
   ],
   "source": [
    "df_class_0_under = df_class_0.sample(count_class_1)\n",
    "df_under = pd.concat([df_class_0_under, df_class_1], axis=0)\n",
    "\n",
    "\n",
    "print(\"After:\\n\",df_under.label.value_counts())"
   ]
  },
  {
   "cell_type": "markdown",
   "metadata": {
    "id": "gFH66dbL05ds"
   },
   "source": [
    "###Over-sampling"
   ]
  },
  {
   "cell_type": "code",
   "execution_count": null,
   "metadata": {
    "id": "alb0aXn5054I"
   },
   "outputs": [],
   "source": [
    "df_class_1_over = df_class_1.sample(count_class_0, replace=True)\n",
    "df_over = pd.concat([df_class_0, df_class_1_over], axis=0)\n",
    "\n",
    "\n",
    "print(\"After:\\n\",df_over.label.value_counts())"
   ]
  },
  {
   "cell_type": "markdown",
   "metadata": {
    "id": "78ylubucHsdk"
   },
   "source": [
    "# English dataset preprocessing"
   ]
  },
  {
   "cell_type": "code",
   "execution_count": null,
   "metadata": {
    "id": "AiQ2lgXHHr2c"
   },
   "outputs": [],
   "source": [
    "import re\n",
    "import nltk\n",
    "nltk.download('stopwords')\n",
    "\n",
    "# Invert capital letters to small letters\n",
    "df_Eng['text']=df_Eng['text'].str.lower()\n",
    "\n",
    "# Removing punctuation marks and special characters\n",
    "def Clean(word):\n",
    "    return re.sub('[^A-Za-z]+', '', word)\n",
    "df_Eng['text'] = df_Eng['text'].apply(lambda y: \" \".join(Clean(x) for x in y.split()))\n",
    "\n",
    "# Removing stopwords\n",
    "stop = stopwords.words('english')\n",
    "df_Eng['text'] = df_Eng['text'].apply(lambda y: \" \".join(x for x in y.split() if x not in stop))\n",
    "\n",
    "df_Eng['text'] = df_Eng['text'].apply(lambda y: \" \".join(x for x in y.split() if len(x)>2))"
   ]
  },
  {
   "cell_type": "markdown",
   "metadata": {
    "id": "qQroMWh9jN9F"
   },
   "source": [
    "# Arabic dataset preprocessing"
   ]
  },
  {
   "cell_type": "code",
   "execution_count": null,
   "metadata": {
    "colab": {
     "base_uri": "https://localhost:8080/",
     "height": 205
    },
    "id": "ALBbAGQojN9G",
    "outputId": "9c32109a-5031-476c-9c0a-7bbf6f5f70bd"
   },
   "outputs": [
    {
     "data": {
      "text/html": [
       "<div>\n",
       "<style scoped>\n",
       "    .dataframe tbody tr th:only-of-type {\n",
       "        vertical-align: middle;\n",
       "    }\n",
       "\n",
       "    .dataframe tbody tr th {\n",
       "        vertical-align: top;\n",
       "    }\n",
       "\n",
       "    .dataframe thead th {\n",
       "        text-align: right;\n",
       "    }\n",
       "</style>\n",
       "<table border=\"1\" class=\"dataframe\">\n",
       "  <thead>\n",
       "    <tr style=\"text-align: right;\">\n",
       "      <th></th>\n",
       "      <th>Tweet</th>\n",
       "      <th>Offensive</th>\n",
       "      <th>Hate</th>\n",
       "      <th>class</th>\n",
       "    </tr>\n",
       "  </thead>\n",
       "  <tbody>\n",
       "    <tr>\n",
       "      <th>0</th>\n",
       "      <td>الحمدلله يارب فوز مهم يا زمالك.. كل الدعم ليكم...</td>\n",
       "      <td>NOT_OFF</td>\n",
       "      <td>NOT_HS</td>\n",
       "      <td>0.0</td>\n",
       "    </tr>\n",
       "    <tr>\n",
       "      <th>1</th>\n",
       "      <td>فدوه يا بخت فدوه يا زمن واحد منكم يجيبه</td>\n",
       "      <td>NOT_OFF</td>\n",
       "      <td>NOT_HS</td>\n",
       "      <td>0.0</td>\n",
       "    </tr>\n",
       "    <tr>\n",
       "      <th>2</th>\n",
       "      <td>RT @USER: يا رب يا واحد يا أحد بحق يوم الاحد ا...</td>\n",
       "      <td>OFF</td>\n",
       "      <td>HS</td>\n",
       "      <td>1.0</td>\n",
       "    </tr>\n",
       "    <tr>\n",
       "      <th>3</th>\n",
       "      <td>RT @USER: #هوا_الحرية يا وجع قلبي عليكي يا امي...</td>\n",
       "      <td>NOT_OFF</td>\n",
       "      <td>NOT_HS</td>\n",
       "      <td>0.0</td>\n",
       "    </tr>\n",
       "    <tr>\n",
       "      <th>4</th>\n",
       "      <td>يا بكون بحياتك الأهم يا إما ما بدي أكون 🎼</td>\n",
       "      <td>NOT_OFF</td>\n",
       "      <td>NOT_HS</td>\n",
       "      <td>0.0</td>\n",
       "    </tr>\n",
       "  </tbody>\n",
       "</table>\n",
       "</div>"
      ],
      "text/plain": [
       "                                               Tweet Offensive    Hate  class\n",
       "0  الحمدلله يارب فوز مهم يا زمالك.. كل الدعم ليكم...   NOT_OFF  NOT_HS    0.0\n",
       "1            فدوه يا بخت فدوه يا زمن واحد منكم يجيبه   NOT_OFF  NOT_HS    0.0\n",
       "2  RT @USER: يا رب يا واحد يا أحد بحق يوم الاحد ا...       OFF      HS    1.0\n",
       "3  RT @USER: #هوا_الحرية يا وجع قلبي عليكي يا امي...   NOT_OFF  NOT_HS    0.0\n",
       "4          يا بكون بحياتك الأهم يا إما ما بدي أكون 🎼   NOT_OFF  NOT_HS    0.0"
      ]
     },
     "execution_count": 8,
     "metadata": {},
     "output_type": "execute_result"
    }
   ],
   "source": [
    "df_Arb.head()"
   ]
  },
  {
   "cell_type": "code",
   "execution_count": null,
   "metadata": {
    "id": "edJbtevrj7Aa"
   },
   "outputs": [],
   "source": [
    "import os\n",
    "import joblib\n",
    "import re\n",
    "import string\n",
    "\n",
    "def clean(df):\n",
    "    df = remove_diacritics(df)\n",
    "    df = normalize_arabic(df)\n",
    "    df = remove_punctuations(df)\n",
    "    df = remove_repeating_char(df)\n",
    "    df = remove_english_word_and_numbers(df)\n",
    "    df = clean_space(df)\n",
    "    df['Tweet']=df['Tweet'].apply(lambda x :remove_emoji(str(x)))\n",
    "    return df\n",
    "\n",
    "\n",
    "arabic_punctuations = '''`÷« »×؛<>٩٨'٧٦٥٤٣٢١٠_()↗*•&^%][ـ،/:\"؟.,'{}⋮≈~¦+|٪!”…“–ـ/[]%=#*+\\\\•~@£·_{}©^®`→°€™›♥←×§″′Â█à…“★”–●â►−¢¬░¶↑±▾\t═¦║―¥▓—‹─▒：⊕▼▪†■’▀¨▄♫☆é¯♦¤▲è¸Ã⋅‘∞∙）↓、│（»，♪╩╚³・╦╣╔╗▬❤ïØ¹≤‡₹´'''\n",
    "english_punctuations = string.punctuation\n",
    "punctuations_list = arabic_punctuations + english_punctuations\n",
    "\n",
    "arabic_diacritics = re.compile(\"\"\"\n",
    "                             ّ    | # Tashdid\n",
    "                             َ    | # Fatha\n",
    "                             ً    | # Tanwin Fath\n",
    "                             ُ    | # Damma\n",
    "                             ٌ    | # Tanwin Damm\n",
    "                             ِ    | # Kasra\n",
    "                             ٍ    | # Tanwin Kasr\n",
    "                             ْ    | # Sukun\n",
    "                             ـ     # Tatwil/Kashida\n",
    "                         \"\"\", re.VERBOSE)\n",
    "\n",
    "\n",
    "def remove_diacritics(df):\n",
    "    df['Tweet'] = df['Tweet'].apply(lambda x: _remove_diacritics(x))\n",
    "    return df\n",
    "\n",
    "\n",
    "def _remove_diacritics(x):\n",
    "    x = str(x)\n",
    "    x = re.sub(arabic_diacritics, '', x)\n",
    "    return x\n",
    "\n",
    "\n",
    "def normalize_arabic(df):\n",
    "    df['Tweet'] = df['Tweet'].apply(lambda x: _normalize_arabic(x))\n",
    "    return df\n",
    "\n",
    "\n",
    "def _normalize_arabic(x):\n",
    "    x = str(x)\n",
    "    # added space around puncts after replace\n",
    "    x = re.sub(\"[إأآا]\", \"ا\", x)\n",
    "    x = re.sub(\"ى\", \"ي\", x)\n",
    "    x = re.sub(\"ؤ\", \"ء\", x)\n",
    "    x = re.sub(\"ئ\", \"ء\", x)\n",
    "    x = re.sub(\"ة\", \"ه\", x)\n",
    "    x = re.sub(\"گ\", \"ك\", x)\n",
    "    return x\n",
    "\n",
    "\n",
    "def remove_punctuations(df):\n",
    "    df['Tweet'] = df['Tweet'].apply(lambda x: _remove_punctuations(x))\n",
    "    return df\n",
    "\n",
    "\n",
    "def _remove_punctuations(x):\n",
    "    x = str(x)\n",
    "    translator = str.maketrans(punctuations_list, ' '*len(punctuations_list))\n",
    "    return x.translate(translator)\n",
    "\n",
    "\n",
    "def remove_repeating_char(df):\n",
    "    df['Tweet'] = df['Tweet'].apply(lambda x: _remove_repeating_char(x))\n",
    "    return df\n",
    "\n",
    "\n",
    "def _remove_repeating_char(x):\n",
    "    x = str(x)\n",
    "    return re.sub(r'(.)\\1+', r'\\1', x)\n",
    "\n",
    "\n",
    "def remove_english_word_and_numbers(df):\n",
    "    df['Tweet'] = df['Tweet'].apply(\n",
    "        lambda x: _remove_english_word_and_numbers(x))\n",
    "    return df\n",
    "\n",
    "\n",
    "def _remove_english_word_and_numbers(x):\n",
    "    x = str(x)\n",
    "    return re.sub(r'[a-zA-Z0-9]+', '', x)\n",
    "\n",
    "\n",
    "def clean_space(df):\n",
    "    compiled_re = re.compile(r\"\\s+\")\n",
    "    df['Tweet'] = df[\"Tweet\"].apply(lambda x: _clean_space(x, compiled_re))\n",
    "    return df\n",
    "\n",
    "\n",
    "def _clean_space(x, compiled_re):\n",
    "    return compiled_re.sub(\" \", x)\n",
    "\n",
    "def remove_emoji(string):\n",
    "    emoji_pattern = re.compile(\"[\"\n",
    "                           u\"\\U0001F600-\\U0001F64F\"  # emoticons\n",
    "                           u\"\\U0001F300-\\U0001F5FF\"  # symbols & pictographs\n",
    "                           u\"\\U0001F680-\\U0001F6FF\"  # transport & map symbols\n",
    "                           u\"\\U0001F1E0-\\U0001F1FF\"  # flags (iOS)\n",
    "                           u\"\\U00002702-\\U000027B0\"\n",
    "                           u\"\\U000024C2-\\U0001F251\"\n",
    "                           \"]+\", flags=re.UNICODE)\n",
    "    return emoji_pattern.sub(r'', string)"
   ]
  },
  {
   "cell_type": "code",
   "execution_count": null,
   "metadata": {
    "colab": {
     "base_uri": "https://localhost:8080/",
     "height": 422
    },
    "id": "WxtoQpZxj7Aa",
    "outputId": "00bc7bce-4f82-4bf8-8a12-6e99990027e9"
   },
   "outputs": [
    {
     "data": {
      "text/html": [
       "<div>\n",
       "<style scoped>\n",
       "    .dataframe tbody tr th:only-of-type {\n",
       "        vertical-align: middle;\n",
       "    }\n",
       "\n",
       "    .dataframe tbody tr th {\n",
       "        vertical-align: top;\n",
       "    }\n",
       "\n",
       "    .dataframe thead th {\n",
       "        text-align: right;\n",
       "    }\n",
       "</style>\n",
       "<table border=\"1\" class=\"dataframe\">\n",
       "  <thead>\n",
       "    <tr style=\"text-align: right;\">\n",
       "      <th></th>\n",
       "      <th>Tweet</th>\n",
       "      <th>Offensive</th>\n",
       "      <th>Hate</th>\n",
       "      <th>class</th>\n",
       "    </tr>\n",
       "  </thead>\n",
       "  <tbody>\n",
       "    <tr>\n",
       "      <th>0</th>\n",
       "      <td>الحمدله يارب فوز مهم يا زمالك كل الدعم ليكم يا...</td>\n",
       "      <td>NOT_OFF</td>\n",
       "      <td>NOT_HS</td>\n",
       "      <td>0.0</td>\n",
       "    </tr>\n",
       "    <tr>\n",
       "      <th>1</th>\n",
       "      <td>فدوه يا بخت فدوه يا زمن واحد منكم يجيبه</td>\n",
       "      <td>NOT_OFF</td>\n",
       "      <td>NOT_HS</td>\n",
       "      <td>0.0</td>\n",
       "    </tr>\n",
       "    <tr>\n",
       "      <th>2</th>\n",
       "      <td>يا رب يا واحد يا احد بحق يوم الاحد ان تهلك بن...</td>\n",
       "      <td>OFF</td>\n",
       "      <td>HS</td>\n",
       "      <td>1.0</td>\n",
       "    </tr>\n",
       "    <tr>\n",
       "      <th>3</th>\n",
       "      <td>هوا الحريه يا وجع قلبي عليكي يا امي اله لا يح...</td>\n",
       "      <td>NOT_OFF</td>\n",
       "      <td>NOT_HS</td>\n",
       "      <td>0.0</td>\n",
       "    </tr>\n",
       "    <tr>\n",
       "      <th>4</th>\n",
       "      <td>يا بكون بحياتك الاهم يا اما ما بدي اكون</td>\n",
       "      <td>NOT_OFF</td>\n",
       "      <td>NOT_HS</td>\n",
       "      <td>0.0</td>\n",
       "    </tr>\n",
       "    <tr>\n",
       "      <th>...</th>\n",
       "      <td>...</td>\n",
       "      <td>...</td>\n",
       "      <td>...</td>\n",
       "      <td>...</td>\n",
       "    </tr>\n",
       "    <tr>\n",
       "      <th>9191</th>\n",
       "      <td>تلحس اجري شقفه جحش</td>\n",
       "      <td>OFF</td>\n",
       "      <td>HS</td>\n",
       "      <td>1.0</td>\n",
       "    </tr>\n",
       "    <tr>\n",
       "      <th>9192</th>\n",
       "      <td>كول هوا يا هوا عميل كلب</td>\n",
       "      <td>OFF</td>\n",
       "      <td>HS</td>\n",
       "      <td>1.0</td>\n",
       "    </tr>\n",
       "    <tr>\n",
       "      <th>9193</th>\n",
       "      <td>طيب حضرتك شو عمبتقدم لبلدك غير لغه الصرامي</td>\n",
       "      <td>OFF</td>\n",
       "      <td>HS</td>\n",
       "      <td>1.0</td>\n",
       "    </tr>\n",
       "    <tr>\n",
       "      <th>9194</th>\n",
       "      <td>وانا لح قلك مارون غنيم ماتواخذني تلحس رجلي مع ...</td>\n",
       "      <td>OFF</td>\n",
       "      <td>HS</td>\n",
       "      <td>1.0</td>\n",
       "    </tr>\n",
       "    <tr>\n",
       "      <th>9195</th>\n",
       "      <td>ليش تيوس الامارت والسعوديه مع السورين واليمنين...</td>\n",
       "      <td>OFF</td>\n",
       "      <td>HS</td>\n",
       "      <td>1.0</td>\n",
       "    </tr>\n",
       "  </tbody>\n",
       "</table>\n",
       "<p>9196 rows × 4 columns</p>\n",
       "</div>"
      ],
      "text/plain": [
       "                                                  Tweet  ... class\n",
       "0     الحمدله يارب فوز مهم يا زمالك كل الدعم ليكم يا...  ...   0.0\n",
       "1               فدوه يا بخت فدوه يا زمن واحد منكم يجيبه  ...   0.0\n",
       "2      يا رب يا واحد يا احد بحق يوم الاحد ان تهلك بن...  ...   1.0\n",
       "3      هوا الحريه يا وجع قلبي عليكي يا امي اله لا يح...  ...   0.0\n",
       "4              يا بكون بحياتك الاهم يا اما ما بدي اكون   ...   0.0\n",
       "...                                                 ...  ...   ...\n",
       "9191                                 تلحس اجري شقفه جحش  ...   1.0\n",
       "9192                            كول هوا يا هوا عميل كلب  ...   1.0\n",
       "9193        طيب حضرتك شو عمبتقدم لبلدك غير لغه الصرامي   ...   1.0\n",
       "9194  وانا لح قلك مارون غنيم ماتواخذني تلحس رجلي مع ...  ...   1.0\n",
       "9195  ليش تيوس الامارت والسعوديه مع السورين واليمنين...  ...   1.0\n",
       "\n",
       "[9196 rows x 4 columns]"
      ]
     },
     "execution_count": 10,
     "metadata": {},
     "output_type": "execute_result"
    }
   ],
   "source": [
    "clean(df_Arb)"
   ]
  },
  {
   "cell_type": "code",
   "execution_count": null,
   "metadata": {
    "id": "RnU0obXfj7Aa"
   },
   "outputs": [],
   "source": [
    "df_Arb=df_Arb.rename(columns={\"Tweet\": \"text\"})"
   ]
  },
  {
   "cell_type": "code",
   "execution_count": null,
   "metadata": {
    "colab": {
     "base_uri": "https://localhost:8080/",
     "height": 422
    },
    "id": "vpRp3Hduj7Ab",
    "outputId": "7cb6d3d0-8400-41f8-a07a-c43a4bba51e4"
   },
   "outputs": [
    {
     "data": {
      "text/html": [
       "<div>\n",
       "<style scoped>\n",
       "    .dataframe tbody tr th:only-of-type {\n",
       "        vertical-align: middle;\n",
       "    }\n",
       "\n",
       "    .dataframe tbody tr th {\n",
       "        vertical-align: top;\n",
       "    }\n",
       "\n",
       "    .dataframe thead th {\n",
       "        text-align: right;\n",
       "    }\n",
       "</style>\n",
       "<table border=\"1\" class=\"dataframe\">\n",
       "  <thead>\n",
       "    <tr style=\"text-align: right;\">\n",
       "      <th></th>\n",
       "      <th>text</th>\n",
       "      <th>Offensive</th>\n",
       "      <th>Hate</th>\n",
       "      <th>class</th>\n",
       "      <th>label</th>\n",
       "    </tr>\n",
       "  </thead>\n",
       "  <tbody>\n",
       "    <tr>\n",
       "      <th>0</th>\n",
       "      <td>الحمدله يارب فوز مهم يا زمالك كل الدعم ليكم يا...</td>\n",
       "      <td>NOT_OFF</td>\n",
       "      <td>NOT_HS</td>\n",
       "      <td>0.0</td>\n",
       "      <td>0</td>\n",
       "    </tr>\n",
       "    <tr>\n",
       "      <th>1</th>\n",
       "      <td>فدوه يا بخت فدوه يا زمن واحد منكم يجيبه</td>\n",
       "      <td>NOT_OFF</td>\n",
       "      <td>NOT_HS</td>\n",
       "      <td>0.0</td>\n",
       "      <td>0</td>\n",
       "    </tr>\n",
       "    <tr>\n",
       "      <th>2</th>\n",
       "      <td>يا رب يا واحد يا احد بحق يوم الاحد ان تهلك بن...</td>\n",
       "      <td>OFF</td>\n",
       "      <td>HS</td>\n",
       "      <td>1.0</td>\n",
       "      <td>1</td>\n",
       "    </tr>\n",
       "    <tr>\n",
       "      <th>3</th>\n",
       "      <td>هوا الحريه يا وجع قلبي عليكي يا امي اله لا يح...</td>\n",
       "      <td>NOT_OFF</td>\n",
       "      <td>NOT_HS</td>\n",
       "      <td>0.0</td>\n",
       "      <td>0</td>\n",
       "    </tr>\n",
       "    <tr>\n",
       "      <th>4</th>\n",
       "      <td>يا بكون بحياتك الاهم يا اما ما بدي اكون</td>\n",
       "      <td>NOT_OFF</td>\n",
       "      <td>NOT_HS</td>\n",
       "      <td>0.0</td>\n",
       "      <td>0</td>\n",
       "    </tr>\n",
       "    <tr>\n",
       "      <th>...</th>\n",
       "      <td>...</td>\n",
       "      <td>...</td>\n",
       "      <td>...</td>\n",
       "      <td>...</td>\n",
       "      <td>...</td>\n",
       "    </tr>\n",
       "    <tr>\n",
       "      <th>9191</th>\n",
       "      <td>تلحس اجري شقفه جحش</td>\n",
       "      <td>OFF</td>\n",
       "      <td>HS</td>\n",
       "      <td>1.0</td>\n",
       "      <td>1</td>\n",
       "    </tr>\n",
       "    <tr>\n",
       "      <th>9192</th>\n",
       "      <td>كول هوا يا هوا عميل كلب</td>\n",
       "      <td>OFF</td>\n",
       "      <td>HS</td>\n",
       "      <td>1.0</td>\n",
       "      <td>1</td>\n",
       "    </tr>\n",
       "    <tr>\n",
       "      <th>9193</th>\n",
       "      <td>طيب حضرتك شو عمبتقدم لبلدك غير لغه الصرامي</td>\n",
       "      <td>OFF</td>\n",
       "      <td>HS</td>\n",
       "      <td>1.0</td>\n",
       "      <td>1</td>\n",
       "    </tr>\n",
       "    <tr>\n",
       "      <th>9194</th>\n",
       "      <td>وانا لح قلك مارون غنيم ماتواخذني تلحس رجلي مع ...</td>\n",
       "      <td>OFF</td>\n",
       "      <td>HS</td>\n",
       "      <td>1.0</td>\n",
       "      <td>1</td>\n",
       "    </tr>\n",
       "    <tr>\n",
       "      <th>9195</th>\n",
       "      <td>ليش تيوس الامارت والسعوديه مع السورين واليمنين...</td>\n",
       "      <td>OFF</td>\n",
       "      <td>HS</td>\n",
       "      <td>1.0</td>\n",
       "      <td>1</td>\n",
       "    </tr>\n",
       "  </tbody>\n",
       "</table>\n",
       "<p>9196 rows × 5 columns</p>\n",
       "</div>"
      ],
      "text/plain": [
       "                                                   text Offensive  ... class  label\n",
       "0     الحمدله يارب فوز مهم يا زمالك كل الدعم ليكم يا...   NOT_OFF  ...   0.0      0\n",
       "1               فدوه يا بخت فدوه يا زمن واحد منكم يجيبه   NOT_OFF  ...   0.0      0\n",
       "2      يا رب يا واحد يا احد بحق يوم الاحد ان تهلك بن...       OFF  ...   1.0      1\n",
       "3      هوا الحريه يا وجع قلبي عليكي يا امي اله لا يح...   NOT_OFF  ...   0.0      0\n",
       "4              يا بكون بحياتك الاهم يا اما ما بدي اكون    NOT_OFF  ...   0.0      0\n",
       "...                                                 ...       ...  ...   ...    ...\n",
       "9191                                 تلحس اجري شقفه جحش       OFF  ...   1.0      1\n",
       "9192                            كول هوا يا هوا عميل كلب       OFF  ...   1.0      1\n",
       "9193        طيب حضرتك شو عمبتقدم لبلدك غير لغه الصرامي        OFF  ...   1.0      1\n",
       "9194  وانا لح قلك مارون غنيم ماتواخذني تلحس رجلي مع ...       OFF  ...   1.0      1\n",
       "9195  ليش تيوس الامارت والسعوديه مع السورين واليمنين...       OFF  ...   1.0      1\n",
       "\n",
       "[9196 rows x 5 columns]"
      ]
     },
     "execution_count": 12,
     "metadata": {},
     "output_type": "execute_result"
    }
   ],
   "source": [
    "df_Arb['label']=[0 if row['Hate']=='NOT_HS' else 1 for index,row in df_Arb.iterrows()]\n",
    "df_Arb"
   ]
  },
  {
   "cell_type": "code",
   "execution_count": null,
   "metadata": {
    "id": "hYFLqYvji7Z2"
   },
   "outputs": [],
   "source": [
    "df_Arb.to_excel(\"ArabicDataCleaned.xlsx\")"
   ]
  },
  {
   "cell_type": "markdown",
   "metadata": {
    "id": "TVXTM7tFYg_Y"
   },
   "source": [
    "#Hebrew dataset preprocessing"
   ]
  },
  {
   "cell_type": "code",
   "execution_count": null,
   "metadata": {
    "id": "7IUcDMOIYm6-"
   },
   "outputs": [],
   "source": [
    "import numpy as np\n",
    "import spacy\n",
    "import re\n",
    "import joblib"
   ]
  },
  {
   "cell_type": "code",
   "execution_count": null,
   "metadata": {
    "colab": {
     "base_uri": "https://localhost:8080/",
     "height": 422
    },
    "id": "CIbDs_KFYwBc",
    "outputId": "c6f13b7b-70a4-4293-ee4d-3af682abb63d"
   },
   "outputs": [
    {
     "data": {
      "text/html": [
       "<div>\n",
       "<style scoped>\n",
       "    .dataframe tbody tr th:only-of-type {\n",
       "        vertical-align: middle;\n",
       "    }\n",
       "\n",
       "    .dataframe tbody tr th {\n",
       "        vertical-align: top;\n",
       "    }\n",
       "\n",
       "    .dataframe thead th {\n",
       "        text-align: right;\n",
       "    }\n",
       "</style>\n",
       "<table border=\"1\" class=\"dataframe\">\n",
       "  <thead>\n",
       "    <tr style=\"text-align: right;\">\n",
       "      <th></th>\n",
       "      <th>text</th>\n",
       "      <th>label</th>\n",
       "    </tr>\n",
       "  </thead>\n",
       "  <tbody>\n",
       "    <tr>\n",
       "      <th>0</th>\n",
       "      <td>התנהגו בצורה מכוערת מאוד, ניבולי פה, מה זה?.? ...</td>\n",
       "      <td>0</td>\n",
       "    </tr>\n",
       "    <tr>\n",
       "      <th>1</th>\n",
       "      <td>יהיה זכרו ברוך!</td>\n",
       "      <td>0</td>\n",
       "    </tr>\n",
       "    <tr>\n",
       "      <th>2</th>\n",
       "      <td>ישועת השם כהרף עין אמן</td>\n",
       "      <td>0</td>\n",
       "    </tr>\n",
       "    <tr>\n",
       "      <th>3</th>\n",
       "      <td>תמיד כל כך עניינית וישרה.        כן ירבו כמוך ...</td>\n",
       "      <td>0</td>\n",
       "    </tr>\n",
       "    <tr>\n",
       "      <th>4</th>\n",
       "      <td>@LittleW_SAndS בן זונה אפס</td>\n",
       "      <td>1</td>\n",
       "    </tr>\n",
       "    <tr>\n",
       "      <th>...</th>\n",
       "      <td>...</td>\n",
       "      <td>...</td>\n",
       "    </tr>\n",
       "    <tr>\n",
       "      <th>5212</th>\n",
       "      <td>למה למישהוא היה ספק אחרת? מחבל נישאר מחבל</td>\n",
       "      <td>1</td>\n",
       "    </tr>\n",
       "    <tr>\n",
       "      <th>5213</th>\n",
       "      <td>עיתונאי רוצח תיזהר</td>\n",
       "      <td>0</td>\n",
       "    </tr>\n",
       "    <tr>\n",
       "      <th>5214</th>\n",
       "      <td>איש מביש ודוחה</td>\n",
       "      <td>1</td>\n",
       "    </tr>\n",
       "    <tr>\n",
       "      <th>5215</th>\n",
       "      <td>\"את חיה בסרט אם את חושבת שבוחרי הליכוד יעברו ל...</td>\n",
       "      <td>0</td>\n",
       "    </tr>\n",
       "    <tr>\n",
       "      <th>5216</th>\n",
       "      <td>זו עובדה שאין יותר חוקים במדינת ישראל, מדינתו ...</td>\n",
       "      <td>1</td>\n",
       "    </tr>\n",
       "  </tbody>\n",
       "</table>\n",
       "<p>5217 rows × 2 columns</p>\n",
       "</div>"
      ],
      "text/plain": [
       "                                                   text  label\n",
       "0     התנהגו בצורה מכוערת מאוד, ניבולי פה, מה זה?.? ...      0\n",
       "1                                       יהיה זכרו ברוך!      0\n",
       "2                                ישועת השם כהרף עין אמן      0\n",
       "3     תמיד כל כך עניינית וישרה.        כן ירבו כמוך ...      0\n",
       "4                            @LittleW_SAndS בן זונה אפס      1\n",
       "...                                                 ...    ...\n",
       "5212          למה למישהוא היה ספק אחרת? מחבל נישאר מחבל      1\n",
       "5213                                 עיתונאי רוצח תיזהר      0\n",
       "5214                                     איש מביש ודוחה      1\n",
       "5215  \"את חיה בסרט אם את חושבת שבוחרי הליכוד יעברו ל...      0\n",
       "5216  זו עובדה שאין יותר חוקים במדינת ישראל, מדינתו ...      1\n",
       "\n",
       "[5217 rows x 2 columns]"
      ]
     },
     "execution_count": 39,
     "metadata": {},
     "output_type": "execute_result"
    }
   ],
   "source": [
    "df_HW"
   ]
  },
  {
   "cell_type": "code",
   "execution_count": null,
   "metadata": {
    "colab": {
     "base_uri": "https://localhost:8080/",
     "height": 423
    },
    "id": "QTUWcsu_Yn8U",
    "outputId": "fc3ca87c-eefa-45f2-f85e-648d396a1c6e"
   },
   "outputs": [
    {
     "data": {
      "text/html": [
       "<div>\n",
       "<style scoped>\n",
       "    .dataframe tbody tr th:only-of-type {\n",
       "        vertical-align: middle;\n",
       "    }\n",
       "\n",
       "    .dataframe tbody tr th {\n",
       "        vertical-align: top;\n",
       "    }\n",
       "\n",
       "    .dataframe thead th {\n",
       "        text-align: right;\n",
       "    }\n",
       "</style>\n",
       "<table border=\"1\" class=\"dataframe\">\n",
       "  <thead>\n",
       "    <tr style=\"text-align: right;\">\n",
       "      <th></th>\n",
       "      <th>text</th>\n",
       "      <th>label</th>\n",
       "    </tr>\n",
       "  </thead>\n",
       "  <tbody>\n",
       "    <tr>\n",
       "      <th>0</th>\n",
       "      <td>התנהגו בצורה מכוערת מאוד ניבולי פה מה זה בושה ...</td>\n",
       "      <td>0</td>\n",
       "    </tr>\n",
       "    <tr>\n",
       "      <th>1</th>\n",
       "      <td>יהיה זכרו ברוך</td>\n",
       "      <td>0</td>\n",
       "    </tr>\n",
       "    <tr>\n",
       "      <th>2</th>\n",
       "      <td>ישועת השם כהרף עין אמן</td>\n",
       "      <td>0</td>\n",
       "    </tr>\n",
       "    <tr>\n",
       "      <th>3</th>\n",
       "      <td>תמיד כל כך עניינית וישרה כן ירבו כמוך בישראל</td>\n",
       "      <td>0</td>\n",
       "    </tr>\n",
       "    <tr>\n",
       "      <th>4</th>\n",
       "      <td>בן זונה אפס</td>\n",
       "      <td>1</td>\n",
       "    </tr>\n",
       "    <tr>\n",
       "      <th>...</th>\n",
       "      <td>...</td>\n",
       "      <td>...</td>\n",
       "    </tr>\n",
       "    <tr>\n",
       "      <th>5212</th>\n",
       "      <td>למה למישהוא היה ספק אחרת מחבל נישאר מחבל</td>\n",
       "      <td>1</td>\n",
       "    </tr>\n",
       "    <tr>\n",
       "      <th>5213</th>\n",
       "      <td>עיתונאי רוצח תיזהר</td>\n",
       "      <td>0</td>\n",
       "    </tr>\n",
       "    <tr>\n",
       "      <th>5214</th>\n",
       "      <td>איש מביש ודוחה</td>\n",
       "      <td>1</td>\n",
       "    </tr>\n",
       "    <tr>\n",
       "      <th>5215</th>\n",
       "      <td>את חיה בסרט אם את חושבת שבוחרי הליכוד יעברו ל...</td>\n",
       "      <td>0</td>\n",
       "    </tr>\n",
       "    <tr>\n",
       "      <th>5216</th>\n",
       "      <td>זו עובדה שאין יותר חוקים במדינת ישראל מדינתו ב...</td>\n",
       "      <td>1</td>\n",
       "    </tr>\n",
       "  </tbody>\n",
       "</table>\n",
       "<p>5217 rows × 2 columns</p>\n",
       "</div>"
      ],
      "text/plain": [
       "                                                   text  label\n",
       "0     התנהגו בצורה מכוערת מאוד ניבולי פה מה זה בושה ...      0\n",
       "1                                       יהיה זכרו ברוך       0\n",
       "2                                ישועת השם כהרף עין אמן      0\n",
       "3         תמיד כל כך עניינית וישרה כן ירבו כמוך בישראל       0\n",
       "4                                           בן זונה אפס      1\n",
       "...                                                 ...    ...\n",
       "5212           למה למישהוא היה ספק אחרת מחבל נישאר מחבל      1\n",
       "5213                                 עיתונאי רוצח תיזהר      0\n",
       "5214                                     איש מביש ודוחה      1\n",
       "5215   את חיה בסרט אם את חושבת שבוחרי הליכוד יעברו ל...      0\n",
       "5216  זו עובדה שאין יותר חוקים במדינת ישראל מדינתו ב...      1\n",
       "\n",
       "[5217 rows x 2 columns]"
      ]
     },
     "execution_count": 5,
     "metadata": {},
     "output_type": "execute_result"
    }
   ],
   "source": [
    "df_HW[\"text\"]=df_HW[\"text\"].apply(lambda x :re.sub(r'[^א-ת]+',' ',x))\n",
    "df_HW"
   ]
  },
  {
   "cell_type": "code",
   "execution_count": null,
   "metadata": {
    "id": "HU3i61FObO4y"
   },
   "outputs": [],
   "source": [
    "stop_word=[\n",
    "'אני',\n",
    "'את',\n",
    "'אתה',\n",
    "'אנחנו',\n",
    "'אתן',\n",
    "'אתם',\n",
    "'הם',\n",
    "'הן',\n",
    "'היא',\n",
    "'הוא',\n",
    "'שלי',\n",
    "'שלו',\n",
    "'שלך',\n",
    "'שלה',\n",
    "'שלנו',\n",
    "'שלכם',\n",
    "'שלכן',\n",
    "'שלהם',\n",
    "'שלהן',\n",
    "'לי',\n",
    "'לו',\n",
    "'לה',\n",
    "'לנו',\n",
    "'לכם',\n",
    "'לכן',\n",
    "'להם',\n",
    "'להן',\n",
    "'אותה',\n",
    "'אותו',\n",
    "'זה',\n",
    "'זאת',\n",
    "'אלה',\n",
    "'אלו',\n",
    "'תחת',\n",
    "'מתחת',\n",
    "'מעל',\n",
    "'בין',\n",
    "'עם',\n",
    "'עד',\n",
    "'נגר',\n",
    "'על',\n",
    "'אל',\n",
    "'מול',\n",
    "'של',\n",
    "'אצל',\n",
    "'כמו',\n",
    "'אחר',\n",
    "'אותו',\n",
    "'בלי',\n",
    "'לפני',\n",
    "'אחרי',\n",
    "'מאחורי',\n",
    "'עלי',\n",
    "'עליו',\n",
    "'עליה',\n",
    "'עליך',\n",
    "'עלינו',\n",
    "'עליכם',\n",
    "'לעיכן',\n",
    "'עליהם',\n",
    "'עליהן',\n",
    "'כל',\n",
    "'כולם',\n",
    "'כולן',\n",
    "'כך',\n",
    "'ככה',\n",
    "'כזה',\n",
    "'זה',\n",
    "'זות',\n",
    "'אותי',\n",
    "'אותה',\n",
    "'אותם',\n",
    "'אותך',\n",
    "'אותו',\n",
    "'אותן',\n",
    "'אותנו',\n",
    "'ואת',\n",
    "'את',\n",
    "'אתכם',\n",
    "'אתכן',\n",
    "'איתי',\n",
    "'איתו',\n",
    "'איתך',\n",
    "'איתה',\n",
    "'איתם',\n",
    "'איתן',\n",
    "'איתנו',\n",
    "'איתכם',\n",
    "'איתכן',\n",
    "'יהיה',\n",
    "'תהיה',\n",
    "'היתי',\n",
    "'היתה',\n",
    "'היה',\n",
    "'להיות',\n",
    "'עצמי',\n",
    "'עצמו',\n",
    "'עצמה',\n",
    "'עצמם',\n",
    "'עצמן',\n",
    "'עצמנו',\n",
    "'עצמהם',\n",
    "'עצמהן',\n",
    "'מי',\n",
    "'מה',\n",
    "'איפה',\n",
    "'היכן',\n",
    "'במקום שבו',\n",
    "'אם',\n",
    "'לאן',\n",
    "'למקום שבו',\n",
    "'מקום בו',\n",
    "'איזה',\n",
    "'מהיכן',\n",
    "'איך',\n",
    "'כיצד',\n",
    "'באיזו מידה',\n",
    "'מתי',\n",
    "'בשעה ש',\n",
    "'כאשר',\n",
    "'כש',\n",
    "'למרות',\n",
    "'לפני',\n",
    "'אחרי',\n",
    "'מאיזו סיבה',\n",
    "'הסיבה שבגללה',\n",
    "'למה',\n",
    "'מדוע',\n",
    "'לאיזו תכלית',\n",
    "'כי',\n",
    "'יש',\n",
    "'אין',\n",
    "'אך',\n",
    "'מנין',\n",
    "'מאין',\n",
    "'מאיפה',\n",
    "'יכל',\n",
    "'יכלה',\n",
    "'יכלו',\n",
    "'יכול',\n",
    "'יכולה',\n",
    "'יכולים',\n",
    "'יכולות',\n",
    "'יוכלו',\n",
    "'יוכל',\n",
    "'מסוגל',\n",
    "'לא',\n",
    "'רק',\n",
    "'אולי',\n",
    "'אין',\n",
    "'לאו',\n",
    "'אי',\n",
    "'כלל',\n",
    "'נגד',\n",
    "'אם',\n",
    "'עם',\n",
    "'אל',\n",
    "'אלה',\n",
    "'אלו',\n",
    "'אף',\n",
    "'על',\n",
    "'מעל',\n",
    "'מתחת',\n",
    "'מצד',\n",
    "'בשביל',\n",
    "'לבין',\n",
    "'באמצע',\n",
    "'בתוך',\n",
    "'דרך',\n",
    "'מבעד',\n",
    "'באמצעות',\n",
    "'למעלה',\n",
    "'למטה',\n",
    "'מחוץ',\n",
    "'מן',\n",
    "'לעבר',\n",
    "'מכאן',\n",
    "'כאן',\n",
    "'הנה',\n",
    "'הרי',\n",
    "'פה',\n",
    "'שם',\n",
    "'אך',\n",
    "'ברם',\n",
    "'שוב',\n",
    "'אבל',\n",
    "'מבלי',\n",
    "'בלי',\n",
    "'מלבד',\n",
    "'רק',\n",
    "'בגלל',\n",
    "'מכיוון',\n",
    "'עד',\n",
    "'אשר',\n",
    "'ואילו',\n",
    "'למרות',\n",
    "'אס',\n",
    "'כמו',\n",
    "'כפי',\n",
    "'אז',\n",
    "'אחרי',\n",
    "'כן',\n",
    "'לכן',\n",
    "'לפיכך',\n",
    "'מאד',\n",
    "'עז',\n",
    "'מעט',\n",
    "'מעטים',\n",
    "'במידה',\n",
    "'שוב',\n",
    "'יותר',\n",
    "'מדי',\n",
    "'גם',\n",
    "'כן',\n",
    "'נו',\n",
    "'אחר',\n",
    "'אחרת',\n",
    "'אחרים',\n",
    "'אחרות',\n",
    "'אשר',\n",
    "'או'\n",
    "]"
   ]
  },
  {
   "cell_type": "code",
   "execution_count": null,
   "metadata": {
    "colab": {
     "base_uri": "https://localhost:8080/",
     "height": 423
    },
    "id": "0FCCuPpQZKz0",
    "outputId": "681745d4-03fd-4e18-e20b-29cba19f1881"
   },
   "outputs": [
    {
     "data": {
      "text/html": [
       "<div>\n",
       "<style scoped>\n",
       "    .dataframe tbody tr th:only-of-type {\n",
       "        vertical-align: middle;\n",
       "    }\n",
       "\n",
       "    .dataframe tbody tr th {\n",
       "        vertical-align: top;\n",
       "    }\n",
       "\n",
       "    .dataframe thead th {\n",
       "        text-align: right;\n",
       "    }\n",
       "</style>\n",
       "<table border=\"1\" class=\"dataframe\">\n",
       "  <thead>\n",
       "    <tr style=\"text-align: right;\">\n",
       "      <th></th>\n",
       "      <th>text</th>\n",
       "      <th>label</th>\n",
       "    </tr>\n",
       "  </thead>\n",
       "  <tbody>\n",
       "    <tr>\n",
       "      <th>0</th>\n",
       "      <td>התנהגו בצורה מכוערת מאוד ניבולי בושה לומר ללימ...</td>\n",
       "      <td>0</td>\n",
       "    </tr>\n",
       "    <tr>\n",
       "      <th>1</th>\n",
       "      <td>זכרו ברוך</td>\n",
       "      <td>0</td>\n",
       "    </tr>\n",
       "    <tr>\n",
       "      <th>2</th>\n",
       "      <td>ישועת השם כהרף עין אמן</td>\n",
       "      <td>0</td>\n",
       "    </tr>\n",
       "    <tr>\n",
       "      <th>3</th>\n",
       "      <td>תמיד עניינית וישרה ירבו כמוך בישראל</td>\n",
       "      <td>0</td>\n",
       "    </tr>\n",
       "    <tr>\n",
       "      <th>4</th>\n",
       "      <td>בן זונה אפס</td>\n",
       "      <td>1</td>\n",
       "    </tr>\n",
       "    <tr>\n",
       "      <th>...</th>\n",
       "      <td>...</td>\n",
       "      <td>...</td>\n",
       "    </tr>\n",
       "    <tr>\n",
       "      <th>5212</th>\n",
       "      <td>למישהוא ספק מחבל נישאר מחבל</td>\n",
       "      <td>1</td>\n",
       "    </tr>\n",
       "    <tr>\n",
       "      <th>5213</th>\n",
       "      <td>עיתונאי רוצח תיזהר</td>\n",
       "      <td>0</td>\n",
       "    </tr>\n",
       "    <tr>\n",
       "      <th>5214</th>\n",
       "      <td>איש מביש ודוחה</td>\n",
       "      <td>1</td>\n",
       "    </tr>\n",
       "    <tr>\n",
       "      <th>5215</th>\n",
       "      <td>חיה בסרט חושבת שבוחרי הליכוד יעברו למרצ שיקרה ...</td>\n",
       "      <td>0</td>\n",
       "    </tr>\n",
       "    <tr>\n",
       "      <th>5216</th>\n",
       "      <td>זו עובדה שאין חוקים במדינת ישראל מדינתו בארצו ...</td>\n",
       "      <td>1</td>\n",
       "    </tr>\n",
       "  </tbody>\n",
       "</table>\n",
       "<p>5217 rows × 2 columns</p>\n",
       "</div>"
      ],
      "text/plain": [
       "                                                   text  label\n",
       "0     התנהגו בצורה מכוערת מאוד ניבולי בושה לומר ללימ...      0\n",
       "1                                             זכרו ברוך      0\n",
       "2                                ישועת השם כהרף עין אמן      0\n",
       "3                   תמיד עניינית וישרה ירבו כמוך בישראל      0\n",
       "4                                           בן זונה אפס      1\n",
       "...                                                 ...    ...\n",
       "5212                        למישהוא ספק מחבל נישאר מחבל      1\n",
       "5213                                 עיתונאי רוצח תיזהר      0\n",
       "5214                                     איש מביש ודוחה      1\n",
       "5215  חיה בסרט חושבת שבוחרי הליכוד יעברו למרצ שיקרה ...      0\n",
       "5216  זו עובדה שאין חוקים במדינת ישראל מדינתו בארצו ...      1\n",
       "\n",
       "[5217 rows x 2 columns]"
      ]
     },
     "execution_count": 7,
     "metadata": {},
     "output_type": "execute_result"
    }
   ],
   "source": [
    "df_HW[\"text\"] = df_HW[\"text\"].apply(lambda x: ' '.join([t for t in x.split() if t not in stop_word]))\n",
    "df_HW"
   ]
  },
  {
   "cell_type": "code",
   "execution_count": null,
   "metadata": {
    "colab": {
     "base_uri": "https://localhost:8080/",
     "height": 422
    },
    "id": "_QR2ANQDaF44",
    "outputId": "20b55ea0-8ab4-402f-8d6e-bc26e12b4912"
   },
   "outputs": [
    {
     "data": {
      "text/html": [
       "<div>\n",
       "<style scoped>\n",
       "    .dataframe tbody tr th:only-of-type {\n",
       "        vertical-align: middle;\n",
       "    }\n",
       "\n",
       "    .dataframe tbody tr th {\n",
       "        vertical-align: top;\n",
       "    }\n",
       "\n",
       "    .dataframe thead th {\n",
       "        text-align: right;\n",
       "    }\n",
       "</style>\n",
       "<table border=\"1\" class=\"dataframe\">\n",
       "  <thead>\n",
       "    <tr style=\"text-align: right;\">\n",
       "      <th></th>\n",
       "      <th>text</th>\n",
       "      <th>label</th>\n",
       "    </tr>\n",
       "  </thead>\n",
       "  <tbody>\n",
       "    <tr>\n",
       "      <th>0</th>\n",
       "      <td>התנהגו בצורה מכוערת מאוד ניבולי בושה לומר לימו...</td>\n",
       "      <td>0</td>\n",
       "    </tr>\n",
       "    <tr>\n",
       "      <th>1</th>\n",
       "      <td>זכרו ברוך</td>\n",
       "      <td>0</td>\n",
       "    </tr>\n",
       "    <tr>\n",
       "      <th>2</th>\n",
       "      <td>ישועת השם כהרף עין אמן</td>\n",
       "      <td>0</td>\n",
       "    </tr>\n",
       "    <tr>\n",
       "      <th>3</th>\n",
       "      <td>תמיד ענינית וישרה ירבו כמוך בישראל</td>\n",
       "      <td>0</td>\n",
       "    </tr>\n",
       "    <tr>\n",
       "      <th>4</th>\n",
       "      <td>בן זונה אפס</td>\n",
       "      <td>1</td>\n",
       "    </tr>\n",
       "    <tr>\n",
       "      <th>...</th>\n",
       "      <td>...</td>\n",
       "      <td>...</td>\n",
       "    </tr>\n",
       "    <tr>\n",
       "      <th>5212</th>\n",
       "      <td>למישהוא ספק מחבל נישאר מחבל</td>\n",
       "      <td>1</td>\n",
       "    </tr>\n",
       "    <tr>\n",
       "      <th>5213</th>\n",
       "      <td>עיתונאי רוצח תיזהר</td>\n",
       "      <td>0</td>\n",
       "    </tr>\n",
       "    <tr>\n",
       "      <th>5214</th>\n",
       "      <td>איש מביש ודוחה</td>\n",
       "      <td>1</td>\n",
       "    </tr>\n",
       "    <tr>\n",
       "      <th>5215</th>\n",
       "      <td>חיה בסרט חושבת שבוחרי הליכוד יעברו למרצ שיקרה ...</td>\n",
       "      <td>0</td>\n",
       "    </tr>\n",
       "    <tr>\n",
       "      <th>5216</th>\n",
       "      <td>זו עובדה שאין חוקים במדינת ישראל מדינתו בארצו ...</td>\n",
       "      <td>1</td>\n",
       "    </tr>\n",
       "  </tbody>\n",
       "</table>\n",
       "<p>5217 rows × 2 columns</p>\n",
       "</div>"
      ],
      "text/plain": [
       "                                                   text  label\n",
       "0     התנהגו בצורה מכוערת מאוד ניבולי בושה לומר לימו...      0\n",
       "1                                             זכרו ברוך      0\n",
       "2                                ישועת השם כהרף עין אמן      0\n",
       "3                    תמיד ענינית וישרה ירבו כמוך בישראל      0\n",
       "4                                           בן זונה אפס      1\n",
       "...                                                 ...    ...\n",
       "5212                        למישהוא ספק מחבל נישאר מחבל      1\n",
       "5213                                 עיתונאי רוצח תיזהר      0\n",
       "5214                                     איש מביש ודוחה      1\n",
       "5215  חיה בסרט חושבת שבוחרי הליכוד יעברו למרצ שיקרה ...      0\n",
       "5216  זו עובדה שאין חוקים במדינת ישראל מדינתו בארצו ...      1\n",
       "\n",
       "[5217 rows x 2 columns]"
      ]
     },
     "execution_count": 47,
     "metadata": {},
     "output_type": "execute_result"
    }
   ],
   "source": [
    "def remove_repeating_char(data):\n",
    "    data['text'] = data['text'].apply(lambda x: _remove_repeating_char(x))\n",
    "    \n",
    "def _remove_repeating_char(x):\n",
    "    x = str(x)\n",
    "    return re.sub(r'(.)\\1+', r'\\1', x)\n",
    "  \n",
    "remove_repeating_char(df_HW)\n",
    "df_HW"
   ]
  },
  {
   "cell_type": "code",
   "execution_count": null,
   "metadata": {
    "colab": {
     "base_uri": "https://localhost:8080/",
     "height": 422
    },
    "id": "Pku6NB7DaW4j",
    "outputId": "8ec08e17-2205-4d14-f4ed-f744b4c15c0a"
   },
   "outputs": [
    {
     "data": {
      "text/html": [
       "<div>\n",
       "<style scoped>\n",
       "    .dataframe tbody tr th:only-of-type {\n",
       "        vertical-align: middle;\n",
       "    }\n",
       "\n",
       "    .dataframe tbody tr th {\n",
       "        vertical-align: top;\n",
       "    }\n",
       "\n",
       "    .dataframe thead th {\n",
       "        text-align: right;\n",
       "    }\n",
       "</style>\n",
       "<table border=\"1\" class=\"dataframe\">\n",
       "  <thead>\n",
       "    <tr style=\"text-align: right;\">\n",
       "      <th></th>\n",
       "      <th>text</th>\n",
       "      <th>label</th>\n",
       "    </tr>\n",
       "  </thead>\n",
       "  <tbody>\n",
       "    <tr>\n",
       "      <th>0</th>\n",
       "      <td>התנהגו בצורה מכוערת מאוד ניבולי בושה לומר לימו...</td>\n",
       "      <td>0</td>\n",
       "    </tr>\n",
       "    <tr>\n",
       "      <th>1</th>\n",
       "      <td>זכרו ברוך</td>\n",
       "      <td>0</td>\n",
       "    </tr>\n",
       "    <tr>\n",
       "      <th>2</th>\n",
       "      <td>ישועת השם כהרף עין אמן</td>\n",
       "      <td>0</td>\n",
       "    </tr>\n",
       "    <tr>\n",
       "      <th>3</th>\n",
       "      <td>תמיד ענינית וישרה ירבו כמוך בישראל</td>\n",
       "      <td>0</td>\n",
       "    </tr>\n",
       "    <tr>\n",
       "      <th>4</th>\n",
       "      <td>בן זונה אפס</td>\n",
       "      <td>1</td>\n",
       "    </tr>\n",
       "    <tr>\n",
       "      <th>...</th>\n",
       "      <td>...</td>\n",
       "      <td>...</td>\n",
       "    </tr>\n",
       "    <tr>\n",
       "      <th>5212</th>\n",
       "      <td>למישהוא ספק מחבל נישאר מחבל</td>\n",
       "      <td>1</td>\n",
       "    </tr>\n",
       "    <tr>\n",
       "      <th>5213</th>\n",
       "      <td>עיתונאי רוצח תיזהר</td>\n",
       "      <td>0</td>\n",
       "    </tr>\n",
       "    <tr>\n",
       "      <th>5214</th>\n",
       "      <td>איש מביש ודוחה</td>\n",
       "      <td>1</td>\n",
       "    </tr>\n",
       "    <tr>\n",
       "      <th>5215</th>\n",
       "      <td>חיה בסרט חושבת שבוחרי הליכוד יעברו למרצ שיקרה ...</td>\n",
       "      <td>0</td>\n",
       "    </tr>\n",
       "    <tr>\n",
       "      <th>5216</th>\n",
       "      <td>זו עובדה שאין חוקים במדינת ישראל מדינתו בארצו ...</td>\n",
       "      <td>1</td>\n",
       "    </tr>\n",
       "  </tbody>\n",
       "</table>\n",
       "<p>5217 rows × 2 columns</p>\n",
       "</div>"
      ],
      "text/plain": [
       "                                                   text  label\n",
       "0     התנהגו בצורה מכוערת מאוד ניבולי בושה לומר לימו...      0\n",
       "1                                             זכרו ברוך      0\n",
       "2                                ישועת השם כהרף עין אמן      0\n",
       "3                    תמיד ענינית וישרה ירבו כמוך בישראל      0\n",
       "4                                           בן זונה אפס      1\n",
       "...                                                 ...    ...\n",
       "5212                        למישהוא ספק מחבל נישאר מחבל      1\n",
       "5213                                 עיתונאי רוצח תיזהר      0\n",
       "5214                                     איש מביש ודוחה      1\n",
       "5215  חיה בסרט חושבת שבוחרי הליכוד יעברו למרצ שיקרה ...      0\n",
       "5216  זו עובדה שאין חוקים במדינת ישראל מדינתו בארצו ...      1\n",
       "\n",
       "[5217 rows x 2 columns]"
      ]
     },
     "execution_count": 48,
     "metadata": {},
     "output_type": "execute_result"
    }
   ],
   "source": [
    "df_HW[\"text\"]=df_HW[\"text\"].apply(lambda x:' '.join(x.split()))\n",
    "df_HW"
   ]
  },
  {
   "cell_type": "code",
   "execution_count": null,
   "metadata": {
    "id": "b4n14HQva_D0"
   },
   "outputs": [],
   "source": [
    "df_HW.to_excel(\"NewDataHebrewCleaned.xlsx\")"
   ]
  }
 ],
 "metadata": {
  "accelerator": "GPU",
  "colab": {
   "collapsed_sections": [
    "sdQ8lIxmNblt",
    "OTbMWx9GZLUD",
    "jlNRRxHLNQzO",
    "PJ0r9i6TNuJ1",
    "dA2lOa6_NkME",
    "ujKd0PjlNrTe",
    "swy03LEJNurv",
    "NecWR8XjNv9t",
    "pOD5YECFMF-e",
    "IVL1ihv2Wi1C",
    "oGaA-SWVWp9x",
    "b9vDo8Wmvz68",
    "6JQarYlawKL5",
    "DNX-U_7L0zqy",
    "gFH66dbL05ds",
    "78ylubucHsdk",
    "qQroMWh9jN9F",
    "TVXTM7tFYg_Y"
   ],
   "name": "Experiments_code.ipynb",
   "provenance": []
  },
  "kernelspec": {
   "display_name": "Python 3",
   "language": "python",
   "name": "python3"
  },
  "language_info": {
   "codemirror_mode": {
    "name": "ipython",
    "version": 3
   },
   "file_extension": ".py",
   "mimetype": "text/x-python",
   "name": "python",
   "nbconvert_exporter": "python",
   "pygments_lexer": "ipython3",
   "version": "3.7.4"
  },
  "widgets": {
   "application/vnd.jupyter.widget-state+json": {
    "04436270ba364f6d86e6d7d4ff5a9386": {
     "model_module": "@jupyter-widgets/controls",
     "model_module_version": "1.5.0",
     "model_name": "HTMLModel",
     "state": {
      "_dom_classes": [],
      "_model_module": "@jupyter-widgets/controls",
      "_model_module_version": "1.5.0",
      "_model_name": "HTMLModel",
      "_view_count": null,
      "_view_module": "@jupyter-widgets/controls",
      "_view_module_version": "1.5.0",
      "_view_name": "HTMLView",
      "description": "",
      "description_tooltip": null,
      "layout": "IPY_MODEL_40dc97a1f9db434192732a6a969071ac",
      "placeholder": "​",
      "style": "IPY_MODEL_cf88975b873144d2a41cb8236807350a",
      "value": "Downloading: 100%"
     }
    },
    "0cc5f99873d14142b69b74b9e580fd09": {
     "model_module": "@jupyter-widgets/controls",
     "model_module_version": "1.5.0",
     "model_name": "ProgressStyleModel",
     "state": {
      "_model_module": "@jupyter-widgets/controls",
      "_model_module_version": "1.5.0",
      "_model_name": "ProgressStyleModel",
      "_view_count": null,
      "_view_module": "@jupyter-widgets/base",
      "_view_module_version": "1.2.0",
      "_view_name": "StyleView",
      "bar_color": null,
      "description_width": ""
     }
    },
    "25f16e08be4d4a21bccf9a0df2030fd1": {
     "model_module": "@jupyter-widgets/controls",
     "model_module_version": "1.5.0",
     "model_name": "HBoxModel",
     "state": {
      "_dom_classes": [],
      "_model_module": "@jupyter-widgets/controls",
      "_model_module_version": "1.5.0",
      "_model_name": "HBoxModel",
      "_view_count": null,
      "_view_module": "@jupyter-widgets/controls",
      "_view_module_version": "1.5.0",
      "_view_name": "HBoxView",
      "box_style": "",
      "children": [
       "IPY_MODEL_04436270ba364f6d86e6d7d4ff5a9386",
       "IPY_MODEL_66fa367b039c4c37abdfca67c81ce251",
       "IPY_MODEL_9fe236a839784274a88aa6b899e2aa9c"
      ],
      "layout": "IPY_MODEL_adb1d527ca3949fb8c52d9a017cf4c7f"
     }
    },
    "2a0797fa5eac4e5b9276b271efb343ec": {
     "model_module": "@jupyter-widgets/controls",
     "model_module_version": "1.5.0",
     "model_name": "DescriptionStyleModel",
     "state": {
      "_model_module": "@jupyter-widgets/controls",
      "_model_module_version": "1.5.0",
      "_model_name": "DescriptionStyleModel",
      "_view_count": null,
      "_view_module": "@jupyter-widgets/base",
      "_view_module_version": "1.2.0",
      "_view_name": "StyleView",
      "description_width": ""
     }
    },
    "39606e32b3d74c3d8181f86bdac8fbb7": {
     "model_module": "@jupyter-widgets/base",
     "model_module_version": "1.2.0",
     "model_name": "LayoutModel",
     "state": {
      "_model_module": "@jupyter-widgets/base",
      "_model_module_version": "1.2.0",
      "_model_name": "LayoutModel",
      "_view_count": null,
      "_view_module": "@jupyter-widgets/base",
      "_view_module_version": "1.2.0",
      "_view_name": "LayoutView",
      "align_content": null,
      "align_items": null,
      "align_self": null,
      "border": null,
      "bottom": null,
      "display": null,
      "flex": null,
      "flex_flow": null,
      "grid_area": null,
      "grid_auto_columns": null,
      "grid_auto_flow": null,
      "grid_auto_rows": null,
      "grid_column": null,
      "grid_gap": null,
      "grid_row": null,
      "grid_template_areas": null,
      "grid_template_columns": null,
      "grid_template_rows": null,
      "height": null,
      "justify_content": null,
      "justify_items": null,
      "left": null,
      "margin": null,
      "max_height": null,
      "max_width": null,
      "min_height": null,
      "min_width": null,
      "object_fit": null,
      "object_position": null,
      "order": null,
      "overflow": null,
      "overflow_x": null,
      "overflow_y": null,
      "padding": null,
      "right": null,
      "top": null,
      "visibility": null,
      "width": null
     }
    },
    "40dc97a1f9db434192732a6a969071ac": {
     "model_module": "@jupyter-widgets/base",
     "model_module_version": "1.2.0",
     "model_name": "LayoutModel",
     "state": {
      "_model_module": "@jupyter-widgets/base",
      "_model_module_version": "1.2.0",
      "_model_name": "LayoutModel",
      "_view_count": null,
      "_view_module": "@jupyter-widgets/base",
      "_view_module_version": "1.2.0",
      "_view_name": "LayoutView",
      "align_content": null,
      "align_items": null,
      "align_self": null,
      "border": null,
      "bottom": null,
      "display": null,
      "flex": null,
      "flex_flow": null,
      "grid_area": null,
      "grid_auto_columns": null,
      "grid_auto_flow": null,
      "grid_auto_rows": null,
      "grid_column": null,
      "grid_gap": null,
      "grid_row": null,
      "grid_template_areas": null,
      "grid_template_columns": null,
      "grid_template_rows": null,
      "height": null,
      "justify_content": null,
      "justify_items": null,
      "left": null,
      "margin": null,
      "max_height": null,
      "max_width": null,
      "min_height": null,
      "min_width": null,
      "object_fit": null,
      "object_position": null,
      "order": null,
      "overflow": null,
      "overflow_x": null,
      "overflow_y": null,
      "padding": null,
      "right": null,
      "top": null,
      "visibility": null,
      "width": null
     }
    },
    "43a14ef7d383423c864628e0a0f65537": {
     "model_module": "@jupyter-widgets/controls",
     "model_module_version": "1.5.0",
     "model_name": "FloatProgressModel",
     "state": {
      "_dom_classes": [],
      "_model_module": "@jupyter-widgets/controls",
      "_model_module_version": "1.5.0",
      "_model_name": "FloatProgressModel",
      "_view_count": null,
      "_view_module": "@jupyter-widgets/controls",
      "_view_module_version": "1.5.0",
      "_view_name": "ProgressView",
      "bar_style": "success",
      "description": "",
      "description_tooltip": null,
      "layout": "IPY_MODEL_b0faa4da50e14aacbd9446b8cec38cd9",
      "max": 995526,
      "min": 0,
      "orientation": "horizontal",
      "style": "IPY_MODEL_c24fe42377144dc58cff459befe4adbf",
      "value": 995526
     }
    },
    "4a35aa0bb62747209ae4ec6f4064d7ae": {
     "model_module": "@jupyter-widgets/controls",
     "model_module_version": "1.5.0",
     "model_name": "HTMLModel",
     "state": {
      "_dom_classes": [],
      "_model_module": "@jupyter-widgets/controls",
      "_model_module_version": "1.5.0",
      "_model_name": "HTMLModel",
      "_view_count": null,
      "_view_module": "@jupyter-widgets/controls",
      "_view_module_version": "1.5.0",
      "_view_name": "HTMLView",
      "description": "",
      "description_tooltip": null,
      "layout": "IPY_MODEL_f04305f4cc5a4920b74acd3891fa4284",
      "placeholder": "​",
      "style": "IPY_MODEL_2a0797fa5eac4e5b9276b271efb343ec",
      "value": " 625/625 [00:00&lt;00:00, 18.2kB/s]"
     }
    },
    "5e3d19abd1424fc598ad89f6acb45c17": {
     "model_module": "@jupyter-widgets/base",
     "model_module_version": "1.2.0",
     "model_name": "LayoutModel",
     "state": {
      "_model_module": "@jupyter-widgets/base",
      "_model_module_version": "1.2.0",
      "_model_name": "LayoutModel",
      "_view_count": null,
      "_view_module": "@jupyter-widgets/base",
      "_view_module_version": "1.2.0",
      "_view_name": "LayoutView",
      "align_content": null,
      "align_items": null,
      "align_self": null,
      "border": null,
      "bottom": null,
      "display": null,
      "flex": null,
      "flex_flow": null,
      "grid_area": null,
      "grid_auto_columns": null,
      "grid_auto_flow": null,
      "grid_auto_rows": null,
      "grid_column": null,
      "grid_gap": null,
      "grid_row": null,
      "grid_template_areas": null,
      "grid_template_columns": null,
      "grid_template_rows": null,
      "height": null,
      "justify_content": null,
      "justify_items": null,
      "left": null,
      "margin": null,
      "max_height": null,
      "max_width": null,
      "min_height": null,
      "min_width": null,
      "object_fit": null,
      "object_position": null,
      "order": null,
      "overflow": null,
      "overflow_x": null,
      "overflow_y": null,
      "padding": null,
      "right": null,
      "top": null,
      "visibility": null,
      "width": null
     }
    },
    "651c4eac7be246a2ac9f8b62cb4e7809": {
     "model_module": "@jupyter-widgets/base",
     "model_module_version": "1.2.0",
     "model_name": "LayoutModel",
     "state": {
      "_model_module": "@jupyter-widgets/base",
      "_model_module_version": "1.2.0",
      "_model_name": "LayoutModel",
      "_view_count": null,
      "_view_module": "@jupyter-widgets/base",
      "_view_module_version": "1.2.0",
      "_view_name": "LayoutView",
      "align_content": null,
      "align_items": null,
      "align_self": null,
      "border": null,
      "bottom": null,
      "display": null,
      "flex": null,
      "flex_flow": null,
      "grid_area": null,
      "grid_auto_columns": null,
      "grid_auto_flow": null,
      "grid_auto_rows": null,
      "grid_column": null,
      "grid_gap": null,
      "grid_row": null,
      "grid_template_areas": null,
      "grid_template_columns": null,
      "grid_template_rows": null,
      "height": null,
      "justify_content": null,
      "justify_items": null,
      "left": null,
      "margin": null,
      "max_height": null,
      "max_width": null,
      "min_height": null,
      "min_width": null,
      "object_fit": null,
      "object_position": null,
      "order": null,
      "overflow": null,
      "overflow_x": null,
      "overflow_y": null,
      "padding": null,
      "right": null,
      "top": null,
      "visibility": null,
      "width": null
     }
    },
    "66fa367b039c4c37abdfca67c81ce251": {
     "model_module": "@jupyter-widgets/controls",
     "model_module_version": "1.5.0",
     "model_name": "FloatProgressModel",
     "state": {
      "_dom_classes": [],
      "_model_module": "@jupyter-widgets/controls",
      "_model_module_version": "1.5.0",
      "_model_name": "FloatProgressModel",
      "_view_count": null,
      "_view_module": "@jupyter-widgets/controls",
      "_view_module_version": "1.5.0",
      "_view_name": "ProgressView",
      "bar_style": "success",
      "description": "",
      "description_tooltip": null,
      "layout": "IPY_MODEL_dedf7c9b588c4a2fa49a57c9e071682f",
      "max": 29,
      "min": 0,
      "orientation": "horizontal",
      "style": "IPY_MODEL_d0bc11d40d7a419a8e34f8c1f236bf26",
      "value": 29
     }
    },
    "6aa0e318bf764ba5b5c8191cdab93cf5": {
     "model_module": "@jupyter-widgets/controls",
     "model_module_version": "1.5.0",
     "model_name": "HBoxModel",
     "state": {
      "_dom_classes": [],
      "_model_module": "@jupyter-widgets/controls",
      "_model_module_version": "1.5.0",
      "_model_name": "HBoxModel",
      "_view_count": null,
      "_view_module": "@jupyter-widgets/controls",
      "_view_module_version": "1.5.0",
      "_view_name": "HBoxView",
      "box_style": "",
      "children": [
       "IPY_MODEL_b45dc558e3074b81bfba24323120bf09",
       "IPY_MODEL_43a14ef7d383423c864628e0a0f65537",
       "IPY_MODEL_e3ec6bf4f79d4c5f8f848b4da21d73b2"
      ],
      "layout": "IPY_MODEL_5e3d19abd1424fc598ad89f6acb45c17"
     }
    },
    "6c70038164764329a7a922b6d0b69b61": {
     "model_module": "@jupyter-widgets/controls",
     "model_module_version": "1.5.0",
     "model_name": "DescriptionStyleModel",
     "state": {
      "_model_module": "@jupyter-widgets/controls",
      "_model_module_version": "1.5.0",
      "_model_name": "DescriptionStyleModel",
      "_view_count": null,
      "_view_module": "@jupyter-widgets/base",
      "_view_module_version": "1.2.0",
      "_view_name": "StyleView",
      "description_width": ""
     }
    },
    "72cdffe978514a8b93751cd4ccbc3210": {
     "model_module": "@jupyter-widgets/controls",
     "model_module_version": "1.5.0",
     "model_name": "DescriptionStyleModel",
     "state": {
      "_model_module": "@jupyter-widgets/controls",
      "_model_module_version": "1.5.0",
      "_model_name": "DescriptionStyleModel",
      "_view_count": null,
      "_view_module": "@jupyter-widgets/base",
      "_view_module_version": "1.2.0",
      "_view_name": "StyleView",
      "description_width": ""
     }
    },
    "7dda620a4abd43379ed9d41eaa68ecdf": {
     "model_module": "@jupyter-widgets/controls",
     "model_module_version": "1.5.0",
     "model_name": "DescriptionStyleModel",
     "state": {
      "_model_module": "@jupyter-widgets/controls",
      "_model_module_version": "1.5.0",
      "_model_name": "DescriptionStyleModel",
      "_view_count": null,
      "_view_module": "@jupyter-widgets/base",
      "_view_module_version": "1.2.0",
      "_view_name": "StyleView",
      "description_width": ""
     }
    },
    "82b0f1b6e1994f1faba5c86e44de4b60": {
     "model_module": "@jupyter-widgets/base",
     "model_module_version": "1.2.0",
     "model_name": "LayoutModel",
     "state": {
      "_model_module": "@jupyter-widgets/base",
      "_model_module_version": "1.2.0",
      "_model_name": "LayoutModel",
      "_view_count": null,
      "_view_module": "@jupyter-widgets/base",
      "_view_module_version": "1.2.0",
      "_view_name": "LayoutView",
      "align_content": null,
      "align_items": null,
      "align_self": null,
      "border": null,
      "bottom": null,
      "display": null,
      "flex": null,
      "flex_flow": null,
      "grid_area": null,
      "grid_auto_columns": null,
      "grid_auto_flow": null,
      "grid_auto_rows": null,
      "grid_column": null,
      "grid_gap": null,
      "grid_row": null,
      "grid_template_areas": null,
      "grid_template_columns": null,
      "grid_template_rows": null,
      "height": null,
      "justify_content": null,
      "justify_items": null,
      "left": null,
      "margin": null,
      "max_height": null,
      "max_width": null,
      "min_height": null,
      "min_width": null,
      "object_fit": null,
      "object_position": null,
      "order": null,
      "overflow": null,
      "overflow_x": null,
      "overflow_y": null,
      "padding": null,
      "right": null,
      "top": null,
      "visibility": null,
      "width": null
     }
    },
    "94bff7181031499bb9a39e27228e79e7": {
     "model_module": "@jupyter-widgets/controls",
     "model_module_version": "1.5.0",
     "model_name": "HBoxModel",
     "state": {
      "_dom_classes": [],
      "_model_module": "@jupyter-widgets/controls",
      "_model_module_version": "1.5.0",
      "_model_name": "HBoxModel",
      "_view_count": null,
      "_view_module": "@jupyter-widgets/controls",
      "_view_module_version": "1.5.0",
      "_view_name": "HBoxView",
      "box_style": "",
      "children": [
       "IPY_MODEL_edbe533c2c9e413ea4f898f6560af59e",
       "IPY_MODEL_b3ef3303612245eaafe32c8bf60fc462",
       "IPY_MODEL_4a35aa0bb62747209ae4ec6f4064d7ae"
      ],
      "layout": "IPY_MODEL_39606e32b3d74c3d8181f86bdac8fbb7"
     }
    },
    "9fe236a839784274a88aa6b899e2aa9c": {
     "model_module": "@jupyter-widgets/controls",
     "model_module_version": "1.5.0",
     "model_name": "HTMLModel",
     "state": {
      "_dom_classes": [],
      "_model_module": "@jupyter-widgets/controls",
      "_model_module_version": "1.5.0",
      "_model_name": "HTMLModel",
      "_view_count": null,
      "_view_module": "@jupyter-widgets/controls",
      "_view_module_version": "1.5.0",
      "_view_name": "HTMLView",
      "description": "",
      "description_tooltip": null,
      "layout": "IPY_MODEL_651c4eac7be246a2ac9f8b62cb4e7809",
      "placeholder": "​",
      "style": "IPY_MODEL_f4c60d4b2ec34eadbac0fbe1b7f1f67f",
      "value": " 29.0/29.0 [00:00&lt;00:00, 790B/s]"
     }
    },
    "adb1d527ca3949fb8c52d9a017cf4c7f": {
     "model_module": "@jupyter-widgets/base",
     "model_module_version": "1.2.0",
     "model_name": "LayoutModel",
     "state": {
      "_model_module": "@jupyter-widgets/base",
      "_model_module_version": "1.2.0",
      "_model_name": "LayoutModel",
      "_view_count": null,
      "_view_module": "@jupyter-widgets/base",
      "_view_module_version": "1.2.0",
      "_view_name": "LayoutView",
      "align_content": null,
      "align_items": null,
      "align_self": null,
      "border": null,
      "bottom": null,
      "display": null,
      "flex": null,
      "flex_flow": null,
      "grid_area": null,
      "grid_auto_columns": null,
      "grid_auto_flow": null,
      "grid_auto_rows": null,
      "grid_column": null,
      "grid_gap": null,
      "grid_row": null,
      "grid_template_areas": null,
      "grid_template_columns": null,
      "grid_template_rows": null,
      "height": null,
      "justify_content": null,
      "justify_items": null,
      "left": null,
      "margin": null,
      "max_height": null,
      "max_width": null,
      "min_height": null,
      "min_width": null,
      "object_fit": null,
      "object_position": null,
      "order": null,
      "overflow": null,
      "overflow_x": null,
      "overflow_y": null,
      "padding": null,
      "right": null,
      "top": null,
      "visibility": null,
      "width": null
     }
    },
    "b0faa4da50e14aacbd9446b8cec38cd9": {
     "model_module": "@jupyter-widgets/base",
     "model_module_version": "1.2.0",
     "model_name": "LayoutModel",
     "state": {
      "_model_module": "@jupyter-widgets/base",
      "_model_module_version": "1.2.0",
      "_model_name": "LayoutModel",
      "_view_count": null,
      "_view_module": "@jupyter-widgets/base",
      "_view_module_version": "1.2.0",
      "_view_name": "LayoutView",
      "align_content": null,
      "align_items": null,
      "align_self": null,
      "border": null,
      "bottom": null,
      "display": null,
      "flex": null,
      "flex_flow": null,
      "grid_area": null,
      "grid_auto_columns": null,
      "grid_auto_flow": null,
      "grid_auto_rows": null,
      "grid_column": null,
      "grid_gap": null,
      "grid_row": null,
      "grid_template_areas": null,
      "grid_template_columns": null,
      "grid_template_rows": null,
      "height": null,
      "justify_content": null,
      "justify_items": null,
      "left": null,
      "margin": null,
      "max_height": null,
      "max_width": null,
      "min_height": null,
      "min_width": null,
      "object_fit": null,
      "object_position": null,
      "order": null,
      "overflow": null,
      "overflow_x": null,
      "overflow_y": null,
      "padding": null,
      "right": null,
      "top": null,
      "visibility": null,
      "width": null
     }
    },
    "b3ef3303612245eaafe32c8bf60fc462": {
     "model_module": "@jupyter-widgets/controls",
     "model_module_version": "1.5.0",
     "model_name": "FloatProgressModel",
     "state": {
      "_dom_classes": [],
      "_model_module": "@jupyter-widgets/controls",
      "_model_module_version": "1.5.0",
      "_model_name": "FloatProgressModel",
      "_view_count": null,
      "_view_module": "@jupyter-widgets/controls",
      "_view_module_version": "1.5.0",
      "_view_name": "ProgressView",
      "bar_style": "success",
      "description": "",
      "description_tooltip": null,
      "layout": "IPY_MODEL_b8b25e1a9a634e628ce2a46a95349e34",
      "max": 625,
      "min": 0,
      "orientation": "horizontal",
      "style": "IPY_MODEL_0cc5f99873d14142b69b74b9e580fd09",
      "value": 625
     }
    },
    "b45dc558e3074b81bfba24323120bf09": {
     "model_module": "@jupyter-widgets/controls",
     "model_module_version": "1.5.0",
     "model_name": "HTMLModel",
     "state": {
      "_dom_classes": [],
      "_model_module": "@jupyter-widgets/controls",
      "_model_module_version": "1.5.0",
      "_model_name": "HTMLModel",
      "_view_count": null,
      "_view_module": "@jupyter-widgets/controls",
      "_view_module_version": "1.5.0",
      "_view_name": "HTMLView",
      "description": "",
      "description_tooltip": null,
      "layout": "IPY_MODEL_c588da4a50f94481ac1c19ac0ee12402",
      "placeholder": "​",
      "style": "IPY_MODEL_6c70038164764329a7a922b6d0b69b61",
      "value": "Downloading: 100%"
     }
    },
    "b8b25e1a9a634e628ce2a46a95349e34": {
     "model_module": "@jupyter-widgets/base",
     "model_module_version": "1.2.0",
     "model_name": "LayoutModel",
     "state": {
      "_model_module": "@jupyter-widgets/base",
      "_model_module_version": "1.2.0",
      "_model_name": "LayoutModel",
      "_view_count": null,
      "_view_module": "@jupyter-widgets/base",
      "_view_module_version": "1.2.0",
      "_view_name": "LayoutView",
      "align_content": null,
      "align_items": null,
      "align_self": null,
      "border": null,
      "bottom": null,
      "display": null,
      "flex": null,
      "flex_flow": null,
      "grid_area": null,
      "grid_auto_columns": null,
      "grid_auto_flow": null,
      "grid_auto_rows": null,
      "grid_column": null,
      "grid_gap": null,
      "grid_row": null,
      "grid_template_areas": null,
      "grid_template_columns": null,
      "grid_template_rows": null,
      "height": null,
      "justify_content": null,
      "justify_items": null,
      "left": null,
      "margin": null,
      "max_height": null,
      "max_width": null,
      "min_height": null,
      "min_width": null,
      "object_fit": null,
      "object_position": null,
      "order": null,
      "overflow": null,
      "overflow_x": null,
      "overflow_y": null,
      "padding": null,
      "right": null,
      "top": null,
      "visibility": null,
      "width": null
     }
    },
    "bb031a87ea254de3859fc971e8c65be4": {
     "model_module": "@jupyter-widgets/base",
     "model_module_version": "1.2.0",
     "model_name": "LayoutModel",
     "state": {
      "_model_module": "@jupyter-widgets/base",
      "_model_module_version": "1.2.0",
      "_model_name": "LayoutModel",
      "_view_count": null,
      "_view_module": "@jupyter-widgets/base",
      "_view_module_version": "1.2.0",
      "_view_name": "LayoutView",
      "align_content": null,
      "align_items": null,
      "align_self": null,
      "border": null,
      "bottom": null,
      "display": null,
      "flex": null,
      "flex_flow": null,
      "grid_area": null,
      "grid_auto_columns": null,
      "grid_auto_flow": null,
      "grid_auto_rows": null,
      "grid_column": null,
      "grid_gap": null,
      "grid_row": null,
      "grid_template_areas": null,
      "grid_template_columns": null,
      "grid_template_rows": null,
      "height": null,
      "justify_content": null,
      "justify_items": null,
      "left": null,
      "margin": null,
      "max_height": null,
      "max_width": null,
      "min_height": null,
      "min_width": null,
      "object_fit": null,
      "object_position": null,
      "order": null,
      "overflow": null,
      "overflow_x": null,
      "overflow_y": null,
      "padding": null,
      "right": null,
      "top": null,
      "visibility": null,
      "width": null
     }
    },
    "c24fe42377144dc58cff459befe4adbf": {
     "model_module": "@jupyter-widgets/controls",
     "model_module_version": "1.5.0",
     "model_name": "ProgressStyleModel",
     "state": {
      "_model_module": "@jupyter-widgets/controls",
      "_model_module_version": "1.5.0",
      "_model_name": "ProgressStyleModel",
      "_view_count": null,
      "_view_module": "@jupyter-widgets/base",
      "_view_module_version": "1.2.0",
      "_view_name": "StyleView",
      "bar_color": null,
      "description_width": ""
     }
    },
    "c588da4a50f94481ac1c19ac0ee12402": {
     "model_module": "@jupyter-widgets/base",
     "model_module_version": "1.2.0",
     "model_name": "LayoutModel",
     "state": {
      "_model_module": "@jupyter-widgets/base",
      "_model_module_version": "1.2.0",
      "_model_name": "LayoutModel",
      "_view_count": null,
      "_view_module": "@jupyter-widgets/base",
      "_view_module_version": "1.2.0",
      "_view_name": "LayoutView",
      "align_content": null,
      "align_items": null,
      "align_self": null,
      "border": null,
      "bottom": null,
      "display": null,
      "flex": null,
      "flex_flow": null,
      "grid_area": null,
      "grid_auto_columns": null,
      "grid_auto_flow": null,
      "grid_auto_rows": null,
      "grid_column": null,
      "grid_gap": null,
      "grid_row": null,
      "grid_template_areas": null,
      "grid_template_columns": null,
      "grid_template_rows": null,
      "height": null,
      "justify_content": null,
      "justify_items": null,
      "left": null,
      "margin": null,
      "max_height": null,
      "max_width": null,
      "min_height": null,
      "min_width": null,
      "object_fit": null,
      "object_position": null,
      "order": null,
      "overflow": null,
      "overflow_x": null,
      "overflow_y": null,
      "padding": null,
      "right": null,
      "top": null,
      "visibility": null,
      "width": null
     }
    },
    "cf88975b873144d2a41cb8236807350a": {
     "model_module": "@jupyter-widgets/controls",
     "model_module_version": "1.5.0",
     "model_name": "DescriptionStyleModel",
     "state": {
      "_model_module": "@jupyter-widgets/controls",
      "_model_module_version": "1.5.0",
      "_model_name": "DescriptionStyleModel",
      "_view_count": null,
      "_view_module": "@jupyter-widgets/base",
      "_view_module_version": "1.2.0",
      "_view_name": "StyleView",
      "description_width": ""
     }
    },
    "d0bc11d40d7a419a8e34f8c1f236bf26": {
     "model_module": "@jupyter-widgets/controls",
     "model_module_version": "1.5.0",
     "model_name": "ProgressStyleModel",
     "state": {
      "_model_module": "@jupyter-widgets/controls",
      "_model_module_version": "1.5.0",
      "_model_name": "ProgressStyleModel",
      "_view_count": null,
      "_view_module": "@jupyter-widgets/base",
      "_view_module_version": "1.2.0",
      "_view_name": "StyleView",
      "bar_color": null,
      "description_width": ""
     }
    },
    "dedf7c9b588c4a2fa49a57c9e071682f": {
     "model_module": "@jupyter-widgets/base",
     "model_module_version": "1.2.0",
     "model_name": "LayoutModel",
     "state": {
      "_model_module": "@jupyter-widgets/base",
      "_model_module_version": "1.2.0",
      "_model_name": "LayoutModel",
      "_view_count": null,
      "_view_module": "@jupyter-widgets/base",
      "_view_module_version": "1.2.0",
      "_view_name": "LayoutView",
      "align_content": null,
      "align_items": null,
      "align_self": null,
      "border": null,
      "bottom": null,
      "display": null,
      "flex": null,
      "flex_flow": null,
      "grid_area": null,
      "grid_auto_columns": null,
      "grid_auto_flow": null,
      "grid_auto_rows": null,
      "grid_column": null,
      "grid_gap": null,
      "grid_row": null,
      "grid_template_areas": null,
      "grid_template_columns": null,
      "grid_template_rows": null,
      "height": null,
      "justify_content": null,
      "justify_items": null,
      "left": null,
      "margin": null,
      "max_height": null,
      "max_width": null,
      "min_height": null,
      "min_width": null,
      "object_fit": null,
      "object_position": null,
      "order": null,
      "overflow": null,
      "overflow_x": null,
      "overflow_y": null,
      "padding": null,
      "right": null,
      "top": null,
      "visibility": null,
      "width": null
     }
    },
    "e3ec6bf4f79d4c5f8f848b4da21d73b2": {
     "model_module": "@jupyter-widgets/controls",
     "model_module_version": "1.5.0",
     "model_name": "HTMLModel",
     "state": {
      "_dom_classes": [],
      "_model_module": "@jupyter-widgets/controls",
      "_model_module_version": "1.5.0",
      "_model_name": "HTMLModel",
      "_view_count": null,
      "_view_module": "@jupyter-widgets/controls",
      "_view_module_version": "1.5.0",
      "_view_name": "HTMLView",
      "description": "",
      "description_tooltip": null,
      "layout": "IPY_MODEL_bb031a87ea254de3859fc971e8c65be4",
      "placeholder": "​",
      "style": "IPY_MODEL_72cdffe978514a8b93751cd4ccbc3210",
      "value": " 972k/972k [00:00&lt;00:00, 11.4MB/s]"
     }
    },
    "edbe533c2c9e413ea4f898f6560af59e": {
     "model_module": "@jupyter-widgets/controls",
     "model_module_version": "1.5.0",
     "model_name": "HTMLModel",
     "state": {
      "_dom_classes": [],
      "_model_module": "@jupyter-widgets/controls",
      "_model_module_version": "1.5.0",
      "_model_name": "HTMLModel",
      "_view_count": null,
      "_view_module": "@jupyter-widgets/controls",
      "_view_module_version": "1.5.0",
      "_view_name": "HTMLView",
      "description": "",
      "description_tooltip": null,
      "layout": "IPY_MODEL_82b0f1b6e1994f1faba5c86e44de4b60",
      "placeholder": "​",
      "style": "IPY_MODEL_7dda620a4abd43379ed9d41eaa68ecdf",
      "value": "Downloading: 100%"
     }
    },
    "f04305f4cc5a4920b74acd3891fa4284": {
     "model_module": "@jupyter-widgets/base",
     "model_module_version": "1.2.0",
     "model_name": "LayoutModel",
     "state": {
      "_model_module": "@jupyter-widgets/base",
      "_model_module_version": "1.2.0",
      "_model_name": "LayoutModel",
      "_view_count": null,
      "_view_module": "@jupyter-widgets/base",
      "_view_module_version": "1.2.0",
      "_view_name": "LayoutView",
      "align_content": null,
      "align_items": null,
      "align_self": null,
      "border": null,
      "bottom": null,
      "display": null,
      "flex": null,
      "flex_flow": null,
      "grid_area": null,
      "grid_auto_columns": null,
      "grid_auto_flow": null,
      "grid_auto_rows": null,
      "grid_column": null,
      "grid_gap": null,
      "grid_row": null,
      "grid_template_areas": null,
      "grid_template_columns": null,
      "grid_template_rows": null,
      "height": null,
      "justify_content": null,
      "justify_items": null,
      "left": null,
      "margin": null,
      "max_height": null,
      "max_width": null,
      "min_height": null,
      "min_width": null,
      "object_fit": null,
      "object_position": null,
      "order": null,
      "overflow": null,
      "overflow_x": null,
      "overflow_y": null,
      "padding": null,
      "right": null,
      "top": null,
      "visibility": null,
      "width": null
     }
    },
    "f4c60d4b2ec34eadbac0fbe1b7f1f67f": {
     "model_module": "@jupyter-widgets/controls",
     "model_module_version": "1.5.0",
     "model_name": "DescriptionStyleModel",
     "state": {
      "_model_module": "@jupyter-widgets/controls",
      "_model_module_version": "1.5.0",
      "_model_name": "DescriptionStyleModel",
      "_view_count": null,
      "_view_module": "@jupyter-widgets/base",
      "_view_module_version": "1.2.0",
      "_view_name": "StyleView",
      "description_width": ""
     }
    }
   }
  }
 },
 "nbformat": 4,
 "nbformat_minor": 1
}
